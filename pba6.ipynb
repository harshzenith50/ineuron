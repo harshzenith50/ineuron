{
 "cells": [
  {
   "cell_type": "markdown",
   "id": "faf8d04c",
   "metadata": {},
   "source": [
    "# PBA 6\n",
    "\n",
    "1. Escape characters represent characters in string values that would otherwise be difficult or impossible to type into code.\n",
    "\n",
    "\n",
    "2. \\n is a newline; \\t is a tab\n",
    "\n",
    "\n",
    "3. The \\\\ escape character will represent a backslash character.\n",
    "\n",
    "\n",
    "4. The single quote in Howl's is fine because you've used double quotes to mark the beginning and end of the string\n",
    "\n",
    "\n",
    "5. Multiline strings allow you to use newlines in strings without the \\n escape character.\n",
    "\n",
    "\n",
    "6. 'e'\n",
    "'Hello'\n",
    "'Hello'\n",
    "'lo world!\n",
    "\n",
    "\n",
    "7. 'HELLO'\n",
    "True\n",
    "'hello'\n",
    "\n",
    "\n",
    "8. ['Remember,', 'remember,', 'the', 'fifth', 'of', 'November.']\n",
    "'There-can-be-only-one.'\n",
    "\n",
    "\n",
    "9. The rjust(), ljust(), and center() string methods, respectively.\n",
    "\n",
    "\n",
    "10. The lstrip() and rstrip() methods remove whitespace from the left and right ends of a string, respectively."
   ]
  },
  {
   "cell_type": "code",
   "execution_count": null,
   "id": "f727f3e7",
   "metadata": {},
   "outputs": [],
   "source": []
  }
 ],
 "metadata": {
  "kernelspec": {
   "display_name": "Python 3",
   "language": "python",
   "name": "python3"
  },
  "language_info": {
   "codemirror_mode": {
    "name": "ipython",
    "version": 3
   },
   "file_extension": ".py",
   "mimetype": "text/x-python",
   "name": "python",
   "nbconvert_exporter": "python",
   "pygments_lexer": "ipython3",
   "version": "3.8.3"
  }
 },
 "nbformat": 4,
 "nbformat_minor": 5
}
