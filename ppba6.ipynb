{
 "cells": [
  {
   "cell_type": "markdown",
   "id": "8c18ecf1",
   "metadata": {},
   "source": [
    "# Q1"
   ]
  },
  {
   "cell_type": "code",
   "execution_count": 1,
   "id": "9c06c5bf",
   "metadata": {},
   "outputs": [
    {
     "name": "stdout",
     "output_type": "stream",
     "text": [
      "Enter no. of elements: 9\n",
      "0, 1, 1, 2, 3, 5, 8, 13, 21, "
     ]
    }
   ],
   "source": [
    "def fibo(n):\n",
    "    if n==0 or n==1:\n",
    "        return n\n",
    "    else:\n",
    "        return fibo(n-1)+fibo(n-2)\n",
    "x=int(input(\"Enter no. of elements: \"))\n",
    "for i in range(0,x):\n",
    "    print(fibo(i),end=\", \")"
   ]
  },
  {
   "cell_type": "markdown",
   "id": "96bb2408",
   "metadata": {},
   "source": [
    "# Q2"
   ]
  },
  {
   "cell_type": "code",
   "execution_count": 2,
   "id": "e47cb888",
   "metadata": {},
   "outputs": [
    {
     "name": "stdout",
     "output_type": "stream",
     "text": [
      "Factorial of 5\n",
      "is 120\n"
     ]
    }
   ],
   "source": [
    "def fact(n):\n",
    "    fact=1\n",
    "    for i in range(1,n+1):\n",
    "        fact=fact*i\n",
    "    return fact\n",
    "x=int(input(\"Factorial of \"))\n",
    "print(\"is\",fact(x))"
   ]
  },
  {
   "cell_type": "markdown",
   "id": "856aa6d5",
   "metadata": {},
   "source": [
    "# Q3"
   ]
  },
  {
   "cell_type": "code",
   "execution_count": 3,
   "id": "08f40d97",
   "metadata": {},
   "outputs": [
    {
     "name": "stdout",
     "output_type": "stream",
     "text": [
      "Weight in Kilograms: 80\n",
      "Height in meters: 1.8\n",
      "24.691358024691358\n"
     ]
    }
   ],
   "source": [
    "x=int(input(\"Weight in Kilograms: \"))\n",
    "y=float(input(\"Height in meters: \"))\n",
    "bmi=x/(y**2)\n",
    "print(bmi)"
   ]
  },
  {
   "cell_type": "markdown",
   "id": "86db3d28",
   "metadata": {},
   "source": [
    "# Q4"
   ]
  },
  {
   "cell_type": "code",
   "execution_count": 4,
   "id": "078ae810",
   "metadata": {},
   "outputs": [
    {
     "name": "stdout",
     "output_type": "stream",
     "text": [
      "Natural Logarithm of 12\n",
      "is  2.485164322239186\n"
     ]
    }
   ],
   "source": [
    "import math\n",
    "x=int(input(\"Natural Logarithm of \"))  \n",
    "print (\"is \",math.log(x,2.718))"
   ]
  },
  {
   "cell_type": "markdown",
   "id": "05167475",
   "metadata": {},
   "source": [
    "# Q5"
   ]
  },
  {
   "cell_type": "code",
   "execution_count": 5,
   "id": "14f79d74",
   "metadata": {},
   "outputs": [
    {
     "name": "stdout",
     "output_type": "stream",
     "text": [
      "Cube sum till 3\n",
      "is  36.0\n"
     ]
    }
   ],
   "source": [
    "x=int(input(\"Cube sum till \"))\n",
    "print(\"is \",((x**2+x)/2)**2)"
   ]
  },
  {
   "cell_type": "code",
   "execution_count": null,
   "id": "57e02be1",
   "metadata": {},
   "outputs": [],
   "source": []
  }
 ],
 "metadata": {
  "kernelspec": {
   "display_name": "Python 3",
   "language": "python",
   "name": "python3"
  },
  "language_info": {
   "codemirror_mode": {
    "name": "ipython",
    "version": 3
   },
   "file_extension": ".py",
   "mimetype": "text/x-python",
   "name": "python",
   "nbconvert_exporter": "python",
   "pygments_lexer": "ipython3",
   "version": "3.8.3"
  }
 },
 "nbformat": 4,
 "nbformat_minor": 5
}
