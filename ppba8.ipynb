{
 "cells": [
  {
   "cell_type": "markdown",
   "id": "37a33500",
   "metadata": {},
   "source": [
    "# Q1"
   ]
  },
  {
   "cell_type": "code",
   "execution_count": 1,
   "id": "0f7076c3",
   "metadata": {},
   "outputs": [
    {
     "name": "stdout",
     "output_type": "stream",
     "text": [
      "Enter columns: 2\n",
      "Enter rows: 2\n",
      "14\n",
      "15\n",
      "16\n",
      "17\n",
      "16\n",
      "15\n",
      "14\n",
      "13\n",
      "[[30 30]\n",
      " [30 30]]\n"
     ]
    }
   ],
   "source": [
    "import numpy as np\n",
    "x=int(input(\"Enter columns: \"))\n",
    "y=int(input(\"Enter rows: \"))\n",
    "def matrix_input():\n",
    "    x1=[]\n",
    "    for i in range(0,y):\n",
    "        a=[]\n",
    "        for j in range(0,x):\n",
    "            a.append(int(input()))\n",
    "        x1.append(a)\n",
    "    return x1\n",
    "l1=matrix_input()\n",
    "l2=matrix_input()\n",
    "print (np.array(l1) + np.array(l2))"
   ]
  },
  {
   "cell_type": "markdown",
   "id": "13fec35e",
   "metadata": {},
   "source": [
    "# Q2"
   ]
  },
  {
   "cell_type": "code",
   "execution_count": 2,
   "id": "677da77a",
   "metadata": {},
   "outputs": [
    {
     "name": "stdout",
     "output_type": "stream",
     "text": [
      "Enter columns: 2\n",
      "Enter rows: 2\n",
      "1\n",
      "2\n",
      "3\n",
      "4\n",
      "[[1, 2], [3, 4]]\n",
      "Enter columns: 2\n",
      "Enter rows: 2\n",
      "1\n",
      "2\n",
      "3\n",
      "4\n",
      "[[1, 2], [3, 4]]\n",
      "[[ 7 10]\n",
      " [15 22]]\n"
     ]
    }
   ],
   "source": [
    "import numpy as np\n",
    "def matrix_input():\n",
    "    x=int(input(\"Enter columns: \"))\n",
    "    y=int(input(\"Enter rows: \"))\n",
    "    x1=[]\n",
    "    for i in range(0,y):\n",
    "        a=[]\n",
    "        for j in range(0,x):\n",
    "            a.append(int(input()))\n",
    "        x1.append(a)\n",
    "    return x1\n",
    "l1=matrix_input()\n",
    "print(l1)\n",
    "l2=matrix_input()\n",
    "print(l2)\n",
    "print (np.dot(l1,l2))"
   ]
  },
  {
   "cell_type": "markdown",
   "id": "babd5512",
   "metadata": {},
   "source": [
    "# Q3"
   ]
  },
  {
   "cell_type": "code",
   "execution_count": 3,
   "id": "7583bdc8",
   "metadata": {},
   "outputs": [
    {
     "name": "stdout",
     "output_type": "stream",
     "text": [
      "Enter columns: 2\n",
      "Enter rows: 2\n",
      "1\n",
      "2\n",
      "3\n",
      "4\n",
      "[[1 3]\n",
      " [2 4]]\n"
     ]
    }
   ],
   "source": [
    "def matrix_input():\n",
    "    x=int(input(\"Enter columns: \"))\n",
    "    y=int(input(\"Enter rows: \"))\n",
    "    x1=[]\n",
    "    for i in range(0,y):\n",
    "        a=[]\n",
    "        for j in range(0,x):\n",
    "            a.append(int(input()))\n",
    "        x1.append(a)\n",
    "    return x1\n",
    "l1=matrix_input()\n",
    "print(np.transpose(l1))"
   ]
  },
  {
   "cell_type": "markdown",
   "id": "020f7f72",
   "metadata": {},
   "source": [
    "# Q4"
   ]
  },
  {
   "cell_type": "code",
   "execution_count": 4,
   "id": "1c7ca30b",
   "metadata": {},
   "outputs": [
    {
     "name": "stdout",
     "output_type": "stream",
     "text": [
      "Enter a string: Hi I am Harsh\n",
      "The sorted words are:\n",
      "am\n",
      "harsh\n",
      "hi\n",
      "i\n"
     ]
    }
   ],
   "source": [
    "my_str = input(\"Enter a string: \")\n",
    "words = [word.lower() for word in my_str.split()]\n",
    "words.sort()\n",
    "print(\"The sorted words are:\")\n",
    "for word in words:\n",
    "    print(word)"
   ]
  },
  {
   "cell_type": "markdown",
   "id": "de4a5ca3",
   "metadata": {},
   "source": [
    "# Q5"
   ]
  },
  {
   "cell_type": "code",
   "execution_count": 8,
   "id": "37c6b10d",
   "metadata": {},
   "outputs": [
    {
     "name": "stdout",
     "output_type": "stream",
     "text": [
      "Enter a string: Hi I @am Ha@rs$h\n",
      "Hi I am Harsh\n"
     ]
    }
   ],
   "source": [
    "import string\n",
    "my_str = input(\"Enter a string: \")\n",
    "no_punct = \"\"\n",
    "for char in my_str:\n",
    "    if char not in string.punctuation:\n",
    "        no_punct = no_punct + char\n",
    "print(no_punct)"
   ]
  },
  {
   "cell_type": "code",
   "execution_count": null,
   "id": "6107f9af",
   "metadata": {},
   "outputs": [],
   "source": []
  }
 ],
 "metadata": {
  "kernelspec": {
   "display_name": "Python 3",
   "language": "python",
   "name": "python3"
  },
  "language_info": {
   "codemirror_mode": {
    "name": "ipython",
    "version": 3
   },
   "file_extension": ".py",
   "mimetype": "text/x-python",
   "name": "python",
   "nbconvert_exporter": "python",
   "pygments_lexer": "ipython3",
   "version": "3.8.3"
  }
 },
 "nbformat": 4,
 "nbformat_minor": 5
}
