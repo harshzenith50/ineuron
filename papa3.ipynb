{
 "cells": [
  {
   "cell_type": "markdown",
   "id": "29a00438",
   "metadata": {},
   "source": [
    "### Q1 Create a function to perform basic arithmetic operations that includes addition, subtraction, multiplication and division on a string number (e.g.\"12 + 24' or \"23 - 21' or \"12 // 12\" or \"12 * 21\").\n",
    "Here, we have 1 followed by a space, operator followed by another space\n",
    "and 2. For the challenge, we are going to have only two numbers between 1\n",
    "valid operator. The return value should be a number.\n",
    "eval() is not allowed. In case of division, whenever the second number equals\n",
    "&quot;0&quot; return -1."
   ]
  },
  {
   "cell_type": "code",
   "execution_count": 1,
   "id": "88b3531a",
   "metadata": {},
   "outputs": [
    {
     "name": "stdout",
     "output_type": "stream",
     "text": [
      "24 // 12\n"
     ]
    },
    {
     "data": {
      "text/plain": [
       "2"
      ]
     },
     "execution_count": 1,
     "metadata": {},
     "output_type": "execute_result"
    }
   ],
   "source": [
    "x=input()\n",
    "x=x.split(\" \")\n",
    "def oper(x,y,z):\n",
    "    if y==\"+\":\n",
    "        return x+z\n",
    "    elif y==\"-\":\n",
    "        return x-z\n",
    "    elif y==\"*\":\n",
    "        return x*z\n",
    "    elif y==\"//\" and z!=0:\n",
    "        return x//z\n",
    "    elif y==\"//\" and z==0:\n",
    "        return -1\n",
    "oper(int(x[0]),x[1],int(x[2]))"
   ]
  },
  {
   "cell_type": "markdown",
   "id": "f3693f15",
   "metadata": {},
   "source": [
    "### Q2 Write a function that takes the coordinates of three points in the form of a 2d array and returns the perimeter of the triangle. The given points are the vertices of a triangle on a two-dimensional plane."
   ]
  },
  {
   "cell_type": "code",
   "execution_count": 30,
   "id": "1710210b",
   "metadata": {},
   "outputs": [
    {
     "name": "stdout",
     "output_type": "stream",
     "text": [
      "1\n",
      "1\n",
      "1\n",
      "2\n",
      "2\n",
      "2\n",
      "[[1, 1], [1, 2], [2, 2]]\n",
      "3.414213562373095\n"
     ]
    }
   ],
   "source": [
    "matrix=[]\n",
    "for i in range(3):     \n",
    "    a =[]\n",
    "    for j in range(2):   \n",
    "         a.append(int(input()))\n",
    "    matrix.append(a)\n",
    "print(matrix)\n",
    "import math\n",
    "def distance2D(xA,yA,xB,yB):\n",
    "    return math.sqrt((xA-xB)*(xA-xB)+(yA-yB)*(yA-yB))\n",
    "\n",
    "def trianglePerimeter(xA,yA,xB,yB,xC,yC):\n",
    "    return distance2D(xA,yA,xB,yB)+distance2D(xA,yA,xC,yC)+distance2D(xC,yC,xB,yB)\n",
    "print(trianglePerimeter(matrix[0][0],matrix[0][1],matrix[1][0],matrix[1][1],matrix[2][0],matrix[2][1]))"
   ]
  },
  {
   "cell_type": "markdown",
   "id": "40da9924",
   "metadata": {},
   "source": [
    "### Q3 A city skyline can be represented as a 2-D list with 1s representing buildings. In the example below, the height of the tallest building is 4 (second from right column).\n",
    "\n",
    "[[0,0, 0, 0, 0, 0],\n",
    "\n",
    "[0, 0, 0, 0, 1, 0],\n",
    "\n",
    "[0, 0, 1, 0, 1, 0],\n",
    "\n",
    "[0, 1, 1, 1, 1, 0],\n",
    "\n",
    "[1, 1, 1, 1, 1, 1]]\n",
    "\n",
    "Create a function that takes a skyline (2-D list of 0&#39;s and 1&#39;s) and returns the\n",
    "height of the tallest skyscraper."
   ]
  },
  {
   "cell_type": "code",
   "execution_count": 2,
   "id": "e9571174",
   "metadata": {},
   "outputs": [
    {
     "name": "stdout",
     "output_type": "stream",
     "text": [
      "no. of rows3\n",
      "no. of columns3\n",
      "1\n",
      "0\n",
      "0\n",
      "1\n",
      "1\n",
      "0\n",
      "1\n",
      "1\n",
      "1\n"
     ]
    },
    {
     "data": {
      "text/plain": [
       "3"
      ]
     },
     "execution_count": 2,
     "metadata": {},
     "output_type": "execute_result"
    }
   ],
   "source": [
    "import re\n",
    "matrix=[]\n",
    "r=int(input(\"no. of rows\"))\n",
    "c=int(input(\"no. of columns\"))\n",
    "for i in range(r):     \n",
    "    a =[]\n",
    "    for j in range(c):   \n",
    "        a.append(int(input()))\n",
    "    matrix.append(a)\n",
    "sum(1 for eachlist in matrix if sum(eachlist)>0)"
   ]
  },
  {
   "cell_type": "markdown",
   "id": "788c5fe9",
   "metadata": {},
   "source": [
    "### Q4 A financial institution provides professional services to banks and claims charges from the customers based on the number of man-days provided. Internally, it has set a scheme to motivate and reward staff to meet and exceed targeted billable utilization and revenues by paying a bonus for each day claimed from customers in excess of a threshold target. This quarterly scheme is calculated with a threshold target of 32 days per quarter, and the incentive payment for each billable day in excess of such threshold target is shown as follows: \n",
    "          Days          Bonus \n",
    " \n",
    "     0 to 32 days   Zero\n",
    " \n",
    "     33 to 40 days  SGD 325 per billable day\n",
    " \n",
    "     41 to 48 days  SGD 550 per billable day\n",
    " \n",
    "     >48 days       SGD 600 per billable day\n",
    "\n",
    "Please note that incentive payment is calculated progressively. As an\n",
    "example, if an employee reached total billable days of 45 in a quarter, his/her\n",
    "incentive payment is computed as follows:\n",
    "32*0 + 8*325 + 5*550 = 5350\n",
    "Write a function to read the billable days of an employee and return the bonus\n",
    "he/she has obtained in that quarter."
   ]
  },
  {
   "cell_type": "code",
   "execution_count": 15,
   "id": "8a21d7e3",
   "metadata": {},
   "outputs": [
    {
     "name": "stdout",
     "output_type": "stream",
     "text": [
      "41\n"
     ]
    },
    {
     "data": {
      "text/plain": [
       "3150"
      ]
     },
     "execution_count": 15,
     "metadata": {},
     "output_type": "execute_result"
    }
   ],
   "source": [
    "def bonus(x):\n",
    "    if x<=32:\n",
    "        return 0\n",
    "    if x>32 and x<41:\n",
    "        return (x-32)*325\n",
    "    if x>40 and x<49:\n",
    "        return (2600)+((x-40)*550)\n",
    "    if x>48:\n",
    "        return (7000)+((x-48)*600)\n",
    "x=int(input())\n",
    "bonus(x)"
   ]
  },
  {
   "cell_type": "markdown",
   "id": "0f5acfbc",
   "metadata": {},
   "source": [
    "### Q5 A number is said to be Disarium if the sum of its digits raised to their respective positions is the number itself. Create a function that determines whether a number is a Disarium or not."
   ]
  },
  {
   "cell_type": "code",
   "execution_count": 35,
   "id": "31392b9d",
   "metadata": {},
   "outputs": [
    {
     "name": "stdout",
     "output_type": "stream",
     "text": [
      "518\n",
      "Number is a Disarium number\n"
     ]
    }
   ],
   "source": [
    "def isdisarium(x):\n",
    "    sum=0\n",
    "    y=str(x)\n",
    "    for i in range(len(y)):\n",
    "        sum+=int(y[i])**(i+1)\n",
    "    if sum==x:\n",
    "        return 1\n",
    "x=int(input())\n",
    "if isdisarium(x):\n",
    "    print(\"Number is a Disarium number\")\n",
    "else:\n",
    "    print(\"Number is not a Disarium number\")\n",
    "    "
   ]
  },
  {
   "cell_type": "code",
   "execution_count": null,
   "id": "afb65ba1",
   "metadata": {},
   "outputs": [],
   "source": []
  }
 ],
 "metadata": {
  "kernelspec": {
   "display_name": "Python 3",
   "language": "python",
   "name": "python3"
  },
  "language_info": {
   "codemirror_mode": {
    "name": "ipython",
    "version": 3
   },
   "file_extension": ".py",
   "mimetype": "text/x-python",
   "name": "python",
   "nbconvert_exporter": "python",
   "pygments_lexer": "ipython3",
   "version": "3.8.3"
  }
 },
 "nbformat": 4,
 "nbformat_minor": 5
}
