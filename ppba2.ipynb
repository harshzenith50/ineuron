{
 "cells": [
  {
   "cell_type": "markdown",
   "id": "ada48b2a",
   "metadata": {},
   "source": [
    "# Q1"
   ]
  },
  {
   "cell_type": "code",
   "execution_count": 3,
   "id": "844984b5",
   "metadata": {},
   "outputs": [
    {
     "name": "stdout",
     "output_type": "stream",
     "text": [
      "KM: 32\n",
      "51.49888 miles\n"
     ]
    }
   ],
   "source": [
    "km=float(input(\"KM: \"))\n",
    "miles=km*1.60934\n",
    "print(miles,\"miles\")"
   ]
  },
  {
   "cell_type": "markdown",
   "id": "355608f8",
   "metadata": {},
   "source": [
    "# Q2"
   ]
  },
  {
   "cell_type": "code",
   "execution_count": 5,
   "id": "4903c858",
   "metadata": {},
   "outputs": [
    {
     "name": "stdout",
     "output_type": "stream",
     "text": [
      "Celsius: 39\n",
      "102.2 Fahrenheit\n"
     ]
    }
   ],
   "source": [
    "cel=float(input(\"Celsius: \"))\n",
    "fr= (cel*1.8) + 32\n",
    "print(fr,\"Fahrenheit\")"
   ]
  },
  {
   "cell_type": "markdown",
   "id": "52c209ee",
   "metadata": {},
   "source": [
    "# Q3"
   ]
  },
  {
   "cell_type": "code",
   "execution_count": 11,
   "id": "2656e549",
   "metadata": {},
   "outputs": [
    {
     "name": "stdout",
     "output_type": "stream",
     "text": [
      "Enter year: 2021\n",
      "Enter month: 6\n",
      "     June 2021\n",
      "Mo Tu We Th Fr Sa Su\n",
      "    1  2  3  4  5  6\n",
      " 7  8  9 10 11 12 13\n",
      "14 15 16 17 18 19 20\n",
      "21 22 23 24 25 26 27\n",
      "28 29 30\n",
      "\n"
     ]
    }
   ],
   "source": [
    "import calendar as cal\n",
    "year = int(input(\"Enter year: \"))\n",
    "month = int(input(\"Enter month: \"))\n",
    "print(cal.month(year, month))"
   ]
  },
  {
   "cell_type": "markdown",
   "id": "4ea0e36a",
   "metadata": {},
   "source": [
    "# Q4"
   ]
  },
  {
   "cell_type": "code",
   "execution_count": 12,
   "id": "d559d25c",
   "metadata": {},
   "outputs": [
    {
     "name": "stdout",
     "output_type": "stream",
     "text": [
      "Enter value of A: 9\n",
      "Enter value of B: 4\n",
      "Enter value of C: 6\n",
      "The roots of eqn 9x^2 + 4x + 6 are (-17.999999999999996+63.63961030678928j) and (-18.000000000000004-63.63961030678928j)\n"
     ]
    }
   ],
   "source": [
    "a=int(input(\"Enter value of A: \"))\n",
    "b=int(input(\"Enter value of B: \"))\n",
    "c=int(input(\"Enter value of C: \"))\n",
    "dis=(b**2) - (4*a*c)\n",
    "r1= (-b + dis**0.5)/2*a\n",
    "r2= (-b - dis**0.5)/2*a\n",
    "print('The roots of eqn {}x^2 + {}x + {} are {} and {}'.format(a,b,c,r1,r2))"
   ]
  },
  {
   "cell_type": "markdown",
   "id": "ff2c0249",
   "metadata": {},
   "source": [
    "# Q5"
   ]
  },
  {
   "cell_type": "code",
   "execution_count": 1,
   "id": "bbcea240",
   "metadata": {},
   "outputs": [
    {
     "name": "stdout",
     "output_type": "stream",
     "text": [
      "Enter value of A: 4\n",
      "Enter value of B: 5\n",
      "After swapping\n",
      "A: 5 \n",
      "B: 4\n"
     ]
    }
   ],
   "source": [
    "a=int(input(\"Enter value of A: \"))\n",
    "b=int(input(\"Enter value of B: \"))\n",
    "a,b=b,a\n",
    "print(\"After swapping\\nA:\",a,\"\\nB:\",b)"
   ]
  },
  {
   "cell_type": "code",
   "execution_count": null,
   "id": "9c6bac7d",
   "metadata": {},
   "outputs": [],
   "source": []
  }
 ],
 "metadata": {
  "kernelspec": {
   "display_name": "Python 3",
   "language": "python",
   "name": "python3"
  },
  "language_info": {
   "codemirror_mode": {
    "name": "ipython",
    "version": 3
   },
   "file_extension": ".py",
   "mimetype": "text/x-python",
   "name": "python",
   "nbconvert_exporter": "python",
   "pygments_lexer": "ipython3",
   "version": "3.8.3"
  }
 },
 "nbformat": 4,
 "nbformat_minor": 5
}
