{
 "cells": [
  {
   "cell_type": "markdown",
   "id": "6c278a8e",
   "metadata": {},
   "source": [
    "# PBA8\n",
    "\n",
    "Q1.No\n",
    "\n",
    "Q2.You can import the module with import pyinputplus as pyip so that you can enter a shorter name when calling the module's functions\n",
    "\n",
    "Q3.inputInt() : Accepts an integer value. This takes parameters ‘min’, ‘max’, ‘greaterThan’ and ‘lessThan’  for bounds. Returns an int.\n",
    "inputFloat() : Accepts a floating-point value. Also takes  ‘min’, ‘max’, ‘greaterThan’ and ‘lessThan’  parameters. Returns a float.\n",
    "\n",
    "Q4.inputInt(min=0,max=99)\n",
    "\n",
    "Q5. The allowRegexes and blockRegexes keyword arguments take a list of regular expression strings to determine what the \n",
    "PyInputPlus function will accept or reject as valid input.\n",
    "\n",
    "Q6.By default, blank input isn’t allowed unless the blank keyword argument is set to True for ex. response = pyip.inputNum(blank=True)\n",
    "\n",
    "Q7.When you use these keyword arguments and also pass a default keyword argument, the function returns the default value \n",
    "instead of raising an exception.\n",
    " \tFor ex.      response = pyip.inputNum(limit=2, default='N/A')\n",
    "\t\thello\n",
    "\t'hello' is not a number.\n",
    "\t\tworld\n",
    "\t'world' is not a number.\n",
    "\t\t response\n",
    "\t'N/A'\n"
   ]
  },
  {
   "cell_type": "code",
   "execution_count": null,
   "id": "f9f1fd03",
   "metadata": {},
   "outputs": [],
   "source": []
  }
 ],
 "metadata": {
  "kernelspec": {
   "display_name": "Python 3",
   "language": "python",
   "name": "python3"
  },
  "language_info": {
   "codemirror_mode": {
    "name": "ipython",
    "version": 3
   },
   "file_extension": ".py",
   "mimetype": "text/x-python",
   "name": "python",
   "nbconvert_exporter": "python",
   "pygments_lexer": "ipython3",
   "version": "3.8.3"
  }
 },
 "nbformat": 4,
 "nbformat_minor": 5
}
