{
 "cells": [
  {
   "cell_type": "markdown",
   "id": "d06e8dde",
   "metadata": {},
   "source": [
    "### Q1 Write an assert statement that triggers an AssertionError if the variable spam is an integer less than 0."
   ]
  },
  {
   "cell_type": "markdown",
   "id": "4c03ce0d",
   "metadata": {},
   "source": [
    "assert(spam < 0, 'The spam variable is negative.')"
   ]
  },
  {
   "cell_type": "markdown",
   "id": "d3e9c142",
   "metadata": {},
   "source": [
    "### Q2 Write an assert statement that triggers an AssertionError if the variables eggs and bacon contain strings that are the same as each other, even if their cases are different (that is, 'hello' and 'hello' are considered the same, and 'goodbye' and 'GOODbye' are also considered the same)."
   ]
  },
  {
   "cell_type": "markdown",
   "id": "6db834cc",
   "metadata": {},
   "source": [
    "assert(eggs.lower() != bacon.lower(), 'The eggs and bacon variables are the same!') or assert(eggs.upper() != bacon.upper(), 'The eggs and bacon variables are the same!')"
   ]
  },
  {
   "cell_type": "markdown",
   "id": "524b88f7",
   "metadata": {},
   "source": [
    "### Q3 Write an assert statement that always triggers an AssertionError"
   ]
  },
  {
   "cell_type": "markdown",
   "id": "5de238ed",
   "metadata": {},
   "source": [
    "assert(False, 'This assertion always triggers.')"
   ]
  },
  {
   "cell_type": "markdown",
   "id": "784610d7",
   "metadata": {},
   "source": [
    "### Q4 What are the two lines that your program must have in order to be able to call logging.debug()?"
   ]
  },
  {
   "cell_type": "markdown",
   "id": "7b95095a",
   "metadata": {},
   "source": [
    "To be able to call logging.debug(), you must have these two lines at the start of your program: import logging logging.basicConfig(level=logging.DEBUG, format=' %(asctime)s - %(levelname)s - %(message)s')"
   ]
  },
  {
   "cell_type": "markdown",
   "id": "de4289cf",
   "metadata": {},
   "source": [
    "### Q5 What are the two lines that your program must have in order to have logging.debug() send a logging message to a ﬁle named programLog.txt? "
   ]
  },
  {
   "cell_type": "markdown",
   "id": "78ca22d8",
   "metadata": {},
   "source": [
    " import logging logging.basicConfig(filename='programLog.txt', level=logging.DEBUG, format=' %(asctime)s - %(levelname)s - %(message)s')"
   ]
  },
  {
   "cell_type": "markdown",
   "id": "ae4b82df",
   "metadata": {},
   "source": [
    "### Q6 What are the ﬁve logging levels? "
   ]
  },
  {
   "cell_type": "markdown",
   "id": "4d6e24e4",
   "metadata": {},
   "source": [
    "DEBUG, INFO, WARNING, ERROR, and CRITICAL"
   ]
  },
  {
   "cell_type": "markdown",
   "id": "e68399ef",
   "metadata": {},
   "source": [
    "### Q7 What line of code can you add to disable all logging messages in your program? "
   ]
  },
  {
   "cell_type": "markdown",
   "id": "38271d47",
   "metadata": {},
   "source": [
    "logging.disable(logging.CRITICAL)"
   ]
  },
  {
   "cell_type": "markdown",
   "id": "fa358e3e",
   "metadata": {},
   "source": [
    "### Q8 Why is using logging messages better than using print() to display the same message?"
   ]
  },
  {
   "cell_type": "markdown",
   "id": "fa0ee0b4",
   "metadata": {},
   "source": [
    "You can disable logging messages without removing the logging function calls. You can selectively disable lower-level logging messages. You can create logging messages. Logging messages provides a timestamp."
   ]
  },
  {
   "cell_type": "markdown",
   "id": "4db3427e",
   "metadata": {},
   "source": [
    "### Q9 What are the differences between the Step, Over, and Out buttons in the Debug Control window? "
   ]
  },
  {
   "cell_type": "markdown",
   "id": "d6e9349f",
   "metadata": {},
   "source": [
    "The Step button will move the debugger into a function call. The Over button will quickly execute the function call without stepping into it. The Out button will quickly execute the rest of the code until it steps out of the function it currently is in."
   ]
  },
  {
   "cell_type": "markdown",
   "id": "4c6d5f27",
   "metadata": {},
   "source": [
    "### Q10 After you click Continue, when will the debugger stop ?"
   ]
  },
  {
   "cell_type": "markdown",
   "id": "cefec7b7",
   "metadata": {},
   "source": [
    "No"
   ]
  },
  {
   "cell_type": "markdown",
   "id": "74acc2ca",
   "metadata": {},
   "source": [
    "### Q11 What is a breakpoint? "
   ]
  },
  {
   "cell_type": "markdown",
   "id": "cbf768b1",
   "metadata": {},
   "source": [
    "breakpoint is a setting on a line of code that causes the debugger to pause when the program execution reaches the line"
   ]
  }
 ],
 "metadata": {
  "kernelspec": {
   "display_name": "Python 3",
   "language": "python",
   "name": "python3"
  },
  "language_info": {
   "codemirror_mode": {
    "name": "ipython",
    "version": 3
   },
   "file_extension": ".py",
   "mimetype": "text/x-python",
   "name": "python",
   "nbconvert_exporter": "python",
   "pygments_lexer": "ipython3",
   "version": "3.8.3"
  }
 },
 "nbformat": 4,
 "nbformat_minor": 5
}
