{
 "cells": [
  {
   "cell_type": "markdown",
   "id": "8335efba",
   "metadata": {},
   "source": [
    "# Q1\n"
   ]
  },
  {
   "cell_type": "code",
   "execution_count": 1,
   "id": "a0a51316",
   "metadata": {},
   "outputs": [
    {
     "name": "stdout",
     "output_type": "stream",
     "text": [
      "3\n",
      "Hi I am Harsh Singh\n",
      "['Harsh', 'Singh']\n"
     ]
    }
   ],
   "source": [
    "def string_k(k, str):\n",
    "     \n",
    "    string = []\n",
    "    text = str.split(\" \")\n",
    "    for x in text:\n",
    "        if len(x) > k:\n",
    "            string.append(x)\n",
    "    return string    \n",
    "k = int(input())\n",
    "str = input()\n",
    "print(string_k(k, str))"
   ]
  },
  {
   "cell_type": "markdown",
   "id": "e555f11a",
   "metadata": {},
   "source": [
    "# Q2\n"
   ]
  },
  {
   "cell_type": "code",
   "execution_count": 7,
   "id": "1f300f50",
   "metadata": {},
   "outputs": [
    {
     "name": "stdout",
     "output_type": "stream",
     "text": [
      "Hi i am Harsh\n",
      "3\n",
      "Hi  am Harsh\n"
     ]
    }
   ],
   "source": [
    "def remove(string, i):\n",
    "    a = string[ : i]\n",
    "    b = string[i + 1: ]\n",
    "    return a + b\n",
    "string = input()\n",
    "i = int(input())\n",
    "print(remove(string, i))"
   ]
  },
  {
   "cell_type": "markdown",
   "id": "5b08324c",
   "metadata": {},
   "source": [
    "# Q3"
   ]
  },
  {
   "cell_type": "code",
   "execution_count": 14,
   "id": "70c97736",
   "metadata": {},
   "outputs": [
    {
     "name": "stdout",
     "output_type": "stream",
     "text": [
      "HI I AM HARSH SINGH\n",
      "['HI', 'I', 'AM', 'HARSH', 'SINGH']\n",
      "HI-I-AM-HARSH-SINGH\n"
     ]
    }
   ],
   "source": [
    "def split_string(string):\n",
    "    list_string = string.split(' ')\n",
    "    return list_string\n",
    "def join_string(list_string):\n",
    "    string = '-'.join(list_string)\n",
    "    return string\n",
    "\n",
    "string =input()\n",
    "list_string = split_string(string)\n",
    "print(list_string)\n",
    "new_string = join_string(list_string)\n",
    "print(new_string)"
   ]
  },
  {
   "cell_type": "markdown",
   "id": "208eaaaf",
   "metadata": {},
   "source": [
    "# Q4\n"
   ]
  },
  {
   "cell_type": "code",
   "execution_count": 18,
   "id": "4d12b28b",
   "metadata": {},
   "outputs": [
    {
     "name": "stdout",
     "output_type": "stream",
     "text": [
      "hi\n",
      "No\n",
      "01010\n",
      "Yes\n"
     ]
    }
   ],
   "source": [
    "def check(string) :\n",
    "    p = set(string)\n",
    "    s = {'0', '1'}\n",
    "    if s == p or p == {'0'} or p == {'1'}:\n",
    "        print(\"Yes\")\n",
    "    else :\n",
    "        print(\"No\")\n",
    "\n",
    "for i in range(2):\n",
    "    string = input()\n",
    "    check(string)"
   ]
  },
  {
   "cell_type": "markdown",
   "id": "cdae00e3",
   "metadata": {},
   "source": [
    "# Q5"
   ]
  },
  {
   "cell_type": "code",
   "execution_count": 19,
   "id": "f887d974",
   "metadata": {},
   "outputs": [
    {
     "name": "stdout",
     "output_type": "stream",
     "text": [
      "String 1 : Hi I am Harsh\n",
      "String 2 : Hi I am Harsh Singh\n",
      "All uncommon words from both the string are  ['Singh']\n"
     ]
    }
   ],
   "source": [
    "str1 = input('String 1 : ')\n",
    "str2 = input('String 2 : ')\n",
    "count = {}\n",
    "for word in str1.split():\n",
    "    count[word] = count.get(word, 0) + 1\n",
    "for word in str2.split():\n",
    "    count[word] = count.get(word, 0) + 1\n",
    "uncommonWords=  [word for word in count if count[word] == 1]\n",
    "\n",
    "print(\"All uncommon words from both the string are \", uncommonWords)"
   ]
  },
  {
   "cell_type": "markdown",
   "id": "c5fbefd4",
   "metadata": {},
   "source": [
    "# Q6\n"
   ]
  },
  {
   "cell_type": "code",
   "execution_count": 20,
   "id": "ca28bec8",
   "metadata": {},
   "outputs": [
    {
     "name": "stdout",
     "output_type": "stream",
     "text": [
      "String: Hi i am Harsh\n"
     ]
    },
    {
     "data": {
      "text/plain": [
       "['H', 'i', ' ', 'a']"
      ]
     },
     "execution_count": 20,
     "metadata": {},
     "output_type": "execute_result"
    }
   ],
   "source": [
    "def find_duplicates(s):\n",
    "    elements = {}\n",
    "    for char in s:\n",
    "        if elements.get(char,None) != None:\n",
    "            elements[char]+=1\n",
    "        else:\n",
    "            elements[char] = 1\n",
    "    return [k for k,v in elements.items() if v>1]\n",
    "str = input('String: ')\n",
    "\n",
    "find_duplicates(str)"
   ]
  },
  {
   "cell_type": "markdown",
   "id": "e275dd27",
   "metadata": {},
   "source": [
    "# Q7"
   ]
  },
  {
   "cell_type": "code",
   "execution_count": 24,
   "id": "a6ec9db5",
   "metadata": {},
   "outputs": [
    {
     "name": "stdout",
     "output_type": "stream",
     "text": [
      "String: Hello I am H@r$h\n",
      "String Contains special character\n"
     ]
    }
   ],
   "source": [
    "import string\n",
    "str = input('String: ')\n",
    "for i in str:\n",
    "    if i in string.punctuation:\n",
    "        print(\"String Contains special character\")\n",
    "        break\n",
    "else:\n",
    "     print(\"String doesn't contains special character\")"
   ]
  },
  {
   "cell_type": "code",
   "execution_count": null,
   "id": "c2eb6932",
   "metadata": {},
   "outputs": [],
   "source": []
  }
 ],
 "metadata": {
  "kernelspec": {
   "display_name": "Python 3",
   "language": "python",
   "name": "python3"
  },
  "language_info": {
   "codemirror_mode": {
    "name": "ipython",
    "version": 3
   },
   "file_extension": ".py",
   "mimetype": "text/x-python",
   "name": "python",
   "nbconvert_exporter": "python",
   "pygments_lexer": "ipython3",
   "version": "3.8.3"
  }
 },
 "nbformat": 4,
 "nbformat_minor": 5
}
