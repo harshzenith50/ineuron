{
 "cells": [
  {
   "cell_type": "markdown",
   "id": "8c8c68fa",
   "metadata": {},
   "source": [
    "# Q1"
   ]
  },
  {
   "cell_type": "code",
   "execution_count": 1,
   "id": "3ac3fe34",
   "metadata": {},
   "outputs": [
    {
     "name": "stdout",
     "output_type": "stream",
     "text": [
      "Enter length of array 5\n",
      "12\n",
      "52\n",
      "632\n",
      "73\n",
      "43\n",
      "Sum of all elements in  [12, 52, 632, 73, 43]  is  812\n"
     ]
    }
   ],
   "source": [
    "x=int(input(\"Enter length of array \"))\n",
    "l1=[int(input()) for i in range(0,x)]\n",
    "sum=0\n",
    "for i in l1:\n",
    "    sum=sum+i\n",
    "print(\"Sum of all elements in \",l1,\" is \",sum)"
   ]
  },
  {
   "cell_type": "markdown",
   "id": "b223e002",
   "metadata": {},
   "source": [
    "# Q2"
   ]
  },
  {
   "cell_type": "code",
   "execution_count": 3,
   "id": "cf14046b",
   "metadata": {},
   "outputs": [
    {
     "name": "stdout",
     "output_type": "stream",
     "text": [
      "Enter length of array 5\n",
      "12\n",
      "51\n",
      "22\n",
      "61\n",
      "33\n",
      "Largest element is:  61\n"
     ]
    }
   ],
   "source": [
    "x=int(input(\"Enter length of array \"))\n",
    "l1=[int(input()) for i in range(0,x)]\n",
    "for i in range(0,x-1):\n",
    "    if l1[i+1]>l1[i]:\n",
    "        largest=l1[i+1]\n",
    "print(\"Largest element is: \",largest)"
   ]
  },
  {
   "cell_type": "markdown",
   "id": "2f069d1f",
   "metadata": {},
   "source": [
    "# Q3"
   ]
  },
  {
   "cell_type": "code",
   "execution_count": 14,
   "id": "1f734a5e",
   "metadata": {},
   "outputs": [
    {
     "name": "stdout",
     "output_type": "stream",
     "text": [
      "Enter length of array 5\n",
      "12\n",
      "41\n",
      "51\n",
      "61\n",
      "23\n",
      "Original Array:  [12, 41, 51, 61, 23]\n",
      "Rotated Array [23, 12, 41, 51, 61]\n"
     ]
    }
   ],
   "source": [
    "x=int(input(\"Enter length of array \"))\n",
    "l1=[int(input()) for i in range(0,x)]\n",
    "print(\"Original Array: \",l1)\n",
    "print(\"Rotated Array\", ([l1[x-1]] + l1[0:-1]))"
   ]
  },
  {
   "cell_type": "markdown",
   "id": "f84a3750",
   "metadata": {},
   "source": [
    "# Q4"
   ]
  },
  {
   "cell_type": "code",
   "execution_count": 16,
   "id": "eedf5840",
   "metadata": {},
   "outputs": [
    {
     "name": "stdout",
     "output_type": "stream",
     "text": [
      "Enter length of array 6\n",
      "12\n",
      "15\n",
      "61\n",
      "73\n",
      "52\n",
      "72\n",
      "Original Array:  [12, 15, 61, 73, 52, 72]\n",
      "Split at index: 3\n",
      "[73, 52, 72, 12, 15, 61]\n"
     ]
    }
   ],
   "source": [
    "x=int(input(\"Enter length of array \"))\n",
    "l1=[int(input()) for i in range(0,x)]\n",
    "print(\"Original Array: \",l1)\n",
    "y=int(input(\"Split at index: \"))\n",
    "print(l1[y:x]+l1[0:y])\n"
   ]
  },
  {
   "cell_type": "markdown",
   "id": "0562de4b",
   "metadata": {},
   "source": [
    "# Q5"
   ]
  },
  {
   "cell_type": "code",
   "execution_count": 19,
   "id": "a71e7383",
   "metadata": {
    "scrolled": true
   },
   "outputs": [
    {
     "name": "stdout",
     "output_type": "stream",
     "text": [
      "Enter length of array 5\n",
      "14\n",
      "12\n",
      "15\n",
      "16\n",
      "11\n",
      "False\n"
     ]
    }
   ],
   "source": [
    "def isMonotonic(A):\n",
    "  \n",
    "    return (all(A[i] <= A[i + 1] for i in range(len(A) - 1)) or\n",
    "            all(A[i] >= A[i + 1] for i in range(len(A) - 1)))\n",
    "  \n",
    "x=int(input(\"Enter length of array \"))\n",
    "l1=[int(input()) for i in range(0,x)]\n",
    "print(isMonotonic(l1))"
   ]
  },
  {
   "cell_type": "markdown",
   "id": "bad5f4f6",
   "metadata": {},
   "source": []
  }
 ],
 "metadata": {
  "kernelspec": {
   "display_name": "Python 3",
   "language": "python",
   "name": "python3"
  },
  "language_info": {
   "codemirror_mode": {
    "name": "ipython",
    "version": 3
   },
   "file_extension": ".py",
   "mimetype": "text/x-python",
   "name": "python",
   "nbconvert_exporter": "python",
   "pygments_lexer": "ipython3",
   "version": "3.8.3"
  }
 },
 "nbformat": 4,
 "nbformat_minor": 5
}
