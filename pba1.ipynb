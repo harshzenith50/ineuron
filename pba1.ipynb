{
 "cells": [
  {
   "cell_type": "markdown",
   "id": "710862c3",
   "metadata": {},
   "source": [
    "### Python Basic Assignment 1\n",
    "\n",
    "1. Values: 'hello',-87.8,6\n",
    "     expressions: *,-,/,+\n",
    "\n",
    "2. Strings is a data type for a sequence of characters (e.g. ‘’harsh1234”). \n",
    "       In addition to letters, they can also include numbers, spaces, punctuation, and even line breaks while \n",
    "    Variables are references that you create to refer to other values in your program later. \n",
    "    An example of a value you might reference using a variable could be: str1=\"harsh1234\"\n",
    "\n",
    "3. Numeric:\n",
    "\tIn Python, numeric data type represent the data which has numeric value. Numeric value can be integer, floating number or even complex numbers. \n",
    "\tThese values are defined as int, float and complex class in Python. \n",
    "        Integers - This value is represented by int class. It contains positive or negative whole numbers (without fraction or decimal). In Python there is no limit to how long an integer value can be.\n",
    "\t\tFloat - This value is represented by float class. It is a real number with floating point representation. It is specified by a decimal point. Optionally, the character e or E followed by a positive or negative integer may be appended to specify scientific notation. \n",
    "\t\tComplex Numbers - Complex number is represented by complex class. It is specified as (real part) + (imaginary part)j. For example – 2+3j  \n",
    "   Sequence Type:\n",
    "\tIn Python, sequence is the ordered collection of similar or different data types. Sequences allows to store multiple values in an organized and efficient fashion. There are several sequence types in Python – \n",
    "        String - In Python, Strings are arrays of bytes representing Unicode characters\n",
    "        List - Lists are just like the arrays, declared in other languages which is an ordered collection of data.\n",
    "        Tuple - Just like list, tuple is also an ordered collection of Python objects. The only difference between type and list is that tuples are immutable.\n",
    "   Dictionary:\n",
    "\tDictionary in Python is an unordered collection of data values, used to store data values like a map, which unlike other Data Types that hold only single value as an element, \n",
    "\tDictionary holds key:value pair. Key-value is provided in the dictionary to make it more optimized. Each key-value pair in a Dictionary is separated by a colon :, whereas each key is separated by a ‘comma’.\n",
    "\n",
    "4. An expression is a combination of values, variables, operators, and calls to functions. Expressions need to be evaluated to single value. If you ask Python to print an expression, the interpreter evaluates the expression and displays the result.\n",
    "\n",
    "5. An expression evaluates to a value while a statement does something.\n",
    "   for example,\n",
    "   spam + 2         # an expression\n",
    "   spam = 10         # a statement \n",
    "\n",
    "6. Bacon still contains 22 as there is no assignmnet operation done on it i.e (bacon = bacon +1) has not been done.\n",
    "\n",
    "7. Both 'spamspamspam'\n",
    "\n",
    "8. As variables name can't start with number\n",
    "\n",
    "9. The int(), float(), and str() functions will evaluate to the integer, floating-point number, and string versions of the value passed to them.\n",
    "\n",
    "10. The expression causes an error because 99 is an integer, and only strings can be concatenated to other strings with the + operator. The correct way is I have eaten ' + str(99) + ' burritos.'."
   ]
  },
  {
   "cell_type": "markdown",
   "id": "59eaf975",
   "metadata": {},
   "source": []
  }
 ],
 "metadata": {
  "kernelspec": {
   "display_name": "Python 3",
   "language": "python",
   "name": "python3"
  },
  "language_info": {
   "codemirror_mode": {
    "name": "ipython",
    "version": 3
   },
   "file_extension": ".py",
   "mimetype": "text/x-python",
   "name": "python",
   "nbconvert_exporter": "python",
   "pygments_lexer": "ipython3",
   "version": "3.8.3"
  }
 },
 "nbformat": 4,
 "nbformat_minor": 5
}
