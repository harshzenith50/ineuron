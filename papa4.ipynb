{
 "cells": [
  {
   "cell_type": "markdown",
   "id": "3d510f1c",
   "metadata": {},
   "source": [
    "### Q1\n",
    "In mathematics, the Fibonacci numbers, commonly denoted Fn, form a\n",
    "sequence, called the Fibonacci sequence, such that each number is the sum\n",
    "of the two preceding ones, starting from 0 and 1:\n",
    "\n",
    "The beginning of the sequence is this:\n",
    "0, 1, 1, 2, 3, 5, 8, 13, 21, 34, 55, 89, 144, ...\n",
    "The function fastFib(num) returns the fibonacci number Fn, of the given num\n",
    "as an argument."
   ]
  },
  {
   "cell_type": "code",
   "execution_count": 3,
   "id": "45e3dee2",
   "metadata": {},
   "outputs": [
    {
     "name": "stdout",
     "output_type": "stream",
     "text": [
      "9\n"
     ]
    },
    {
     "data": {
      "text/plain": [
       "34"
      ]
     },
     "execution_count": 3,
     "metadata": {},
     "output_type": "execute_result"
    }
   ],
   "source": [
    "def Fibonacci(n):\n",
    "    if n<0:\n",
    "        print(\"Incorrect input\")\n",
    "    # First Fibonacci number is 0\n",
    "    elif n==0:\n",
    "        return 0\n",
    "    # Second Fibonacci number is 1\n",
    "    elif n==1:\n",
    "        return 1\n",
    "    else:\n",
    "        return Fibonacci(n-1)+Fibonacci(n-2)\n",
    "x=int(input())\n",
    "Fibonacci(x)"
   ]
  },
  {
   "cell_type": "markdown",
   "id": "99df92d4",
   "metadata": {},
   "source": [
    "### Q2 Create a function that takes a strings characters as ASCII and returns each characters hexadecimal value as a string."
   ]
  },
  {
   "cell_type": "code",
   "execution_count": 8,
   "id": "69183428",
   "metadata": {},
   "outputs": [
    {
     "name": "stdout",
     "output_type": "stream",
     "text": [
      "hi i am harsh\n"
     ]
    },
    {
     "data": {
      "text/plain": [
       "'68 69 20 69 20 61 6d 20 68 61 72 73 68 '"
      ]
     },
     "execution_count": 8,
     "metadata": {},
     "output_type": "execute_result"
    }
   ],
   "source": [
    "def ASCIItoHEX(ascii):\n",
    "    hexa = \"\"\n",
    "    for i in range(len(ascii)):\n",
    "        ch = ascii[i]\n",
    "        in1 = ord(ch)\n",
    "        part = hex(in1).lstrip(\"0x\").rstrip(\"L\")\n",
    "        hexa += part+\" \"\n",
    "    return hexa\n",
    "x=input()\n",
    "ASCIItoHEX(x)"
   ]
  },
  {
   "cell_type": "markdown",
   "id": "1605c37d",
   "metadata": {},
   "source": [
    "### Q3 Someone has attempted to censor my strings by replacing every vowel with a *, l*k* th*s. Luckily, I&#39;ve been able to find the vowels that were removed. Given a censored string and a string of the censored vowels, return the original uncensored string."
   ]
  },
  {
   "cell_type": "code",
   "execution_count": 12,
   "id": "e1fc9af5",
   "metadata": {},
   "outputs": [
    {
     "data": {
      "text/plain": [
       "'hi i am harsh'"
      ]
     },
     "execution_count": 12,
     "metadata": {},
     "output_type": "execute_result"
    }
   ],
   "source": [
    "def uncensor(string, vowels):\n",
    "    new_ = \"\"\n",
    "    counter = 0\n",
    "    for i in range(len(string)):\n",
    "        if string[i] == \"*\":\n",
    "            new_ += vowels[counter]\n",
    "            counter += 1\n",
    "        else:\n",
    "            new_ += string[i]\n",
    "    return new_\n",
    "uncensor(\"h* * *m h*rsh\",\"iiaa\")"
   ]
  },
  {
   "cell_type": "markdown",
   "id": "631d785c",
   "metadata": {},
   "source": [
    "### Q4 Write a function that takes an IP address and returns the domain name using PTR DNS records."
   ]
  },
  {
   "cell_type": "code",
   "execution_count": 14,
   "id": "169d9f28",
   "metadata": {},
   "outputs": [
    {
     "name": "stdout",
     "output_type": "stream",
     "text": [
      "Domain name using PTR DNS:\n",
      "dns.google\n",
      "dns.google\n"
     ]
    }
   ],
   "source": [
    "def get_domain_name(ip_address):\n",
    "    import socket\n",
    "    result=socket.gethostbyaddr(ip_address)\n",
    "    return list(result)[0]\n",
    "print(\"Domain name using PTR DNS:\")\n",
    "print(get_domain_name(\"8.8.8.8\"))\n",
    "print(get_domain_name(\"8.8.4.4\"))"
   ]
  },
  {
   "cell_type": "markdown",
   "id": "bed3af3e",
   "metadata": {},
   "source": [
    "### Q5 Create a function that takes an integer n and returns the factorial of factorials. See below examples for a better understanding:\n",
    "fact_of_fact(4) ➞ 288\n",
    "\n",
    "4! * 3! * 2! * 1! = 288"
   ]
  },
  {
   "cell_type": "code",
   "execution_count": 18,
   "id": "cc58bdf5",
   "metadata": {},
   "outputs": [
    {
     "name": "stdout",
     "output_type": "stream",
     "text": [
      "4\n"
     ]
    },
    {
     "data": {
      "text/plain": [
       "288"
      ]
     },
     "execution_count": 18,
     "metadata": {},
     "output_type": "execute_result"
    }
   ],
   "source": [
    "def fact(x):\n",
    "    if (x==1 or x==0):\n",
    "        return 1 \n",
    "    else:\n",
    "        return x * fact(x - 1)\n",
    "def fact_of_fact(x):\n",
    "    pro=1\n",
    "    for i in range(1,x+1):\n",
    "        pro=pro*fact(i)\n",
    "    return pro\n",
    "x=int(input())\n",
    "fact_of_fact(x)"
   ]
  },
  {
   "cell_type": "code",
   "execution_count": null,
   "id": "e5f0e549",
   "metadata": {},
   "outputs": [],
   "source": []
  }
 ],
 "metadata": {
  "kernelspec": {
   "display_name": "Python 3",
   "language": "python",
   "name": "python3"
  },
  "language_info": {
   "codemirror_mode": {
    "name": "ipython",
    "version": 3
   },
   "file_extension": ".py",
   "mimetype": "text/x-python",
   "name": "python",
   "nbconvert_exporter": "python",
   "pygments_lexer": "ipython3",
   "version": "3.8.3"
  }
 },
 "nbformat": 4,
 "nbformat_minor": 5
}
