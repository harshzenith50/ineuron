{
 "cells": [
  {
   "cell_type": "markdown",
   "id": "0ebdc58a",
   "metadata": {},
   "source": [
    "# Q1"
   ]
  },
  {
   "cell_type": "code",
   "execution_count": 4,
   "id": "db546ce3",
   "metadata": {},
   "outputs": [
    {
     "name": "stdout",
     "output_type": "stream",
     "text": [
      "175\n",
      "disarium number\n"
     ]
    }
   ],
   "source": [
    "num = int(input())\n",
    "rem = s = 0\n",
    "len = len(str(num))\n",
    "n=num\n",
    "  \n",
    "while(num > 0):    \n",
    "    rem = num%10\n",
    "    s += int(rem**len)    \n",
    "    num = num//10    \n",
    "    len -=1    \n",
    "        \n",
    "if(s == n):    \n",
    "    print( \"disarium number\")    \n",
    "else:    \n",
    "    print(\" not a disarium number\")  "
   ]
  },
  {
   "cell_type": "markdown",
   "id": "76c5fa8b",
   "metadata": {},
   "source": [
    "# Q2"
   ]
  },
  {
   "cell_type": "code",
   "execution_count": 5,
   "id": "2a448e20",
   "metadata": {},
   "outputs": [
    {
     "name": "stdout",
     "output_type": "stream",
     "text": [
      "The disarium numbers between 1 and 100 are : \n",
      "1\n",
      "2\n",
      "3\n",
      "4\n",
      "5\n",
      "6\n",
      "7\n",
      "8\n",
      "9\n",
      "89\n"
     ]
    }
   ],
   "source": [
    "def length_calculation(my_val):\n",
    "    len_val = 0\n",
    "    while(my_val != 0):\n",
    "        len_val = len_val + 1\n",
    "        my_val = my_val//10\n",
    "    return len_val\n",
    "def digit_sum(my_num):\n",
    "    remaining = sum_val = 0\n",
    "    len_fun = length_calculation(my_num)\n",
    "    while(my_num > 0):\n",
    "        remaining = my_num%10\n",
    "        sum_val = sum_val + (remaining**len_fun)\n",
    "        my_num = my_num//10\n",
    "        len_fun = len_fun - 1\n",
    "    return sum_val\n",
    "ini_result = 0\n",
    "print(\"The disarium numbers between 1 and 100 are : \")\n",
    "for i in range(1, 101):\n",
    "    ini_result = digit_sum(i)\n",
    "    if(ini_result == i):\n",
    "        print(i)"
   ]
  },
  {
   "cell_type": "markdown",
   "id": "aba7452d",
   "metadata": {},
   "source": [
    "# Q3"
   ]
  },
  {
   "cell_type": "code",
   "execution_count": 9,
   "id": "c43c93ad",
   "metadata": {},
   "outputs": [
    {
     "name": "stdout",
     "output_type": "stream",
     "text": [
      "86\n",
      "86 is a happy number\n"
     ]
    }
   ],
   "source": [
    "def check_happy_num(my_num):\n",
    "    remaining = sum_val = 0\n",
    "    while(my_num > 0):\n",
    "        remaining = my_num%10\n",
    "        sum_val = sum_val + (remaining*remaining)\n",
    "        my_num = my_num//10\n",
    "    return sum_val;\n",
    "my_num = int(input())\n",
    "my_result = my_num\n",
    "while(my_result != 1 and my_result != 4):\n",
    "    my_result = check_happy_num(my_result);\n",
    "if(my_result == 1):\n",
    "    print(str(my_num) + \" is a happy number\");\n",
    "elif(my_result == 4):\n",
    "    print(str(my_num) + \" isn't a happy number\");"
   ]
  },
  {
   "cell_type": "markdown",
   "id": "8f1e9277",
   "metadata": {},
   "source": [
    "# Q4"
   ]
  },
  {
   "cell_type": "code",
   "execution_count": 10,
   "id": "45d35481",
   "metadata": {},
   "outputs": [
    {
     "name": "stdout",
     "output_type": "stream",
     "text": [
      "The list of happy numbers between 1 and 100 are : \n",
      "1\n",
      "7\n",
      "10\n",
      "13\n",
      "19\n",
      "23\n",
      "28\n",
      "31\n",
      "32\n",
      "44\n",
      "49\n",
      "68\n",
      "70\n",
      "79\n",
      "82\n",
      "86\n",
      "91\n",
      "94\n",
      "97\n",
      "100\n"
     ]
    }
   ],
   "source": [
    "def check_happy_num(my_num):\n",
    "    remaining = sum_val = 0\n",
    "    while(my_num > 0):\n",
    "        remaining = my_num%10\n",
    "        sum_val = sum_val + (remaining*remaining)\n",
    "        my_num = my_num//10\n",
    "    return sum_val\n",
    "print(\"The list of happy numbers between 1 and 100 are : \")\n",
    "for i in range(1, 101):\n",
    "    my_result = i\n",
    "    while(my_result != 1 and my_result != 4):\n",
    "        my_result = check_happy_num(my_result)\n",
    "    if(my_result == 1):\n",
    "        print(i)"
   ]
  },
  {
   "cell_type": "markdown",
   "id": "79334ae7",
   "metadata": {},
   "source": [
    "# Q5"
   ]
  },
  {
   "cell_type": "code",
   "execution_count": 12,
   "id": "4e47cdbe",
   "metadata": {},
   "outputs": [
    {
     "name": "stdout",
     "output_type": "stream",
     "text": [
      "18\n",
      "Yes\n"
     ]
    }
   ],
   "source": [
    "def checkHarshad(n) :\n",
    "    sum = 0\n",
    "    temp = n\n",
    "    while temp > 0:\n",
    "        sum = sum + temp % 10\n",
    "        temp = temp // 10\n",
    "    return n % sum == 0\n",
    "x=int(input()) \n",
    "if(checkHarshad(x)) : print(\"Yes\")\n",
    "else : print (\"No\")\n"
   ]
  },
  {
   "cell_type": "markdown",
   "id": "850e9b67",
   "metadata": {},
   "source": [
    "# Q6"
   ]
  },
  {
   "cell_type": "code",
   "execution_count": 13,
   "id": "0acd0a7f",
   "metadata": {},
   "outputs": [
    {
     "name": "stdout",
     "output_type": "stream",
     "text": [
      "Enter a number: 72\n",
      "Pronic number\n"
     ]
    }
   ],
   "source": [
    "n = int(input(\"Enter a number: \"))\n",
    "f = 0\n",
    "for i in range(n):\n",
    "    if i * (i + 1) == n:\n",
    "        f = 1\n",
    "        break\n",
    "if f==1:\n",
    "    print(\"Pronic number\")\n",
    "else:\n",
    "    print(\"Not a Pronic number\")"
   ]
  },
  {
   "cell_type": "code",
   "execution_count": null,
   "id": "fb00cefe",
   "metadata": {},
   "outputs": [],
   "source": []
  }
 ],
 "metadata": {
  "kernelspec": {
   "display_name": "Python 3",
   "language": "python",
   "name": "python3"
  },
  "language_info": {
   "codemirror_mode": {
    "name": "ipython",
    "version": 3
   },
   "file_extension": ".py",
   "mimetype": "text/x-python",
   "name": "python",
   "nbconvert_exporter": "python",
   "pygments_lexer": "ipython3",
   "version": "3.8.3"
  }
 },
 "nbformat": 4,
 "nbformat_minor": 5
}
