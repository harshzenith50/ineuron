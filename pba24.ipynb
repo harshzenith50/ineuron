{
 "cells": [
  {
   "cell_type": "markdown",
   "id": "e008d76a",
   "metadata": {},
   "source": [
    "# PBA24\n",
    "\n",
    "Q1.Some differences between lambdas and def statements include:\n",
    "lambdas are expressions (they are a value), while defs are statements.\n",
    "lambdas can only be one liners\n",
    "lambdas are anonymous — they have no intrinsic names\n",
    "\n",
    "Q2.The lambda keyword in Python provides a shortcut for declaring small anonymous functions. \n",
    "Lambda functions behave just like regular functions declared with the def keyword. \n",
    "They can be used whenever function objects are required.\n",
    "\n",
    "Q3.The map() function iterates through all items in the given iterable and executes the function we passed as an argument on each of them.\n",
    "As the name suggests, filter() forms a new list that contains only elements that satisfy a certain condition, i.e. the function we passed returns True.\n",
    "Reduce(): Using an array as an input, you can get one single element based on the callback function (the first argument) which gets the accumulator and current_element parameters\n",
    "\n",
    "Q4.The optional metadata about the types used by user defined functions. They are used by storing them in the __annotations__ attribute of the function as a dictionary.\n",
    "\n",
    "Q5.A recursive function is a function that calls itself during its execution. The process may repeat several times, outputting the result and the end of each iteration.\n",
    "\n",
    "Q6. i. Limited use of globals\n",
    "ii.Indentation\n",
    "iii.Error return values and exception handling conventions\n",
    "iv.Avoid using a coding style that is too difficult to understand\n",
    "v.Length of functions should not be very large\n",
    "\n",
    "Q7. Functions can send back results with return statements, by changing passed-in mutable arguments, and by setting global variables.\n"
   ]
  },
  {
   "cell_type": "code",
   "execution_count": null,
   "id": "cff5a7c6",
   "metadata": {},
   "outputs": [],
   "source": []
  }
 ],
 "metadata": {
  "kernelspec": {
   "display_name": "Python 3",
   "language": "python",
   "name": "python3"
  },
  "language_info": {
   "codemirror_mode": {
    "name": "ipython",
    "version": 3
   },
   "file_extension": ".py",
   "mimetype": "text/x-python",
   "name": "python",
   "nbconvert_exporter": "python",
   "pygments_lexer": "ipython3",
   "version": "3.8.3"
  }
 },
 "nbformat": 4,
 "nbformat_minor": 5
}
