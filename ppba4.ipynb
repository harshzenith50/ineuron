{
 "cells": [
  {
   "cell_type": "markdown",
   "id": "a0ce763d",
   "metadata": {},
   "source": [
    "# Q1"
   ]
  },
  {
   "cell_type": "code",
   "execution_count": 9,
   "id": "1866ccfb",
   "metadata": {},
   "outputs": [
    {
     "name": "stdout",
     "output_type": "stream",
     "text": [
      "5\n",
      "120\n"
     ]
    }
   ],
   "source": [
    "x=int(input())\n",
    "fact=1\n",
    "for i in range(1,x+1):\n",
    "    fact=fact*i\n",
    "print(fact)"
   ]
  },
  {
   "cell_type": "markdown",
   "id": "958f92ea",
   "metadata": {},
   "source": [
    "# Q2"
   ]
  },
  {
   "cell_type": "code",
   "execution_count": 10,
   "id": "af8d14ae",
   "metadata": {},
   "outputs": [
    {
     "name": "stdout",
     "output_type": "stream",
     "text": [
      "5\n",
      "5 x 1 = 5\n",
      "5 x 2 = 10\n",
      "5 x 3 = 15\n",
      "5 x 4 = 20\n",
      "5 x 5 = 25\n",
      "5 x 6 = 30\n",
      "5 x 7 = 35\n",
      "5 x 8 = 40\n",
      "5 x 9 = 45\n",
      "5 x 10 = 50\n"
     ]
    }
   ],
   "source": [
    "num = int(input())\n",
    "for i in range(1, 11):\n",
    "    print(num, 'x', i, '=', num*i)"
   ]
  },
  {
   "cell_type": "markdown",
   "id": "81500ed1",
   "metadata": {},
   "source": [
    "# Q3"
   ]
  },
  {
   "cell_type": "code",
   "execution_count": 51,
   "id": "27567ae4",
   "metadata": {},
   "outputs": [
    {
     "name": "stdout",
     "output_type": "stream",
     "text": [
      "Number of terms to be printed: -5\n",
      "None\n"
     ]
    }
   ],
   "source": [
    "def fibo(num):\n",
    "    a,b=0,1\n",
    "    if num==1:\n",
    "        print(0)\n",
    "    else: \n",
    "        for i in range(num):\n",
    "            print(a,end=\" \")\n",
    "            x=a+b\n",
    "            a=b\n",
    "            b=x\n",
    "num = int(input(\"Number of terms to be printed: \"))\n",
    "print(fibo(num))\n",
    "#0,1,1,2,3,5,8,13,21,34\n"
   ]
  },
  {
   "cell_type": "markdown",
   "id": "32fcd7bb",
   "metadata": {},
   "source": [
    "# Q4"
   ]
  },
  {
   "cell_type": "code",
   "execution_count": 10,
   "id": "9748e616",
   "metadata": {},
   "outputs": [
    {
     "name": "stdout",
     "output_type": "stream",
     "text": [
      "1634\n",
      "It's an Armstrong Number\n"
     ]
    }
   ],
   "source": [
    "x=int(input())\n",
    "sum,c=0,0\n",
    "n,m=x,x\n",
    "while n!=0:\n",
    "    n=int(n/10)\n",
    "    c+=1\n",
    "    digits=c\n",
    "while x!=0:    \n",
    "    y=x%10\n",
    "    x=int(x/10)\n",
    "    sum +=(y**digits)\n",
    "if sum==m:\n",
    "    print(\"It's an Armstrong Number\")\n",
    "else:\n",
    "    print(\"It's not an Armstrong Number\")"
   ]
  },
  {
   "cell_type": "markdown",
   "id": "71c3f982",
   "metadata": {},
   "source": [
    "# Q5"
   ]
  },
  {
   "cell_type": "code",
   "execution_count": 15,
   "id": "d1f7ecdb",
   "metadata": {},
   "outputs": [
    {
     "name": "stdout",
     "output_type": "stream",
     "text": [
      "Enter lower limit: 1\n",
      "Enter upper limit: 1665\n",
      "1\n",
      "2\n",
      "3\n",
      "4\n",
      "5\n",
      "6\n",
      "7\n",
      "8\n",
      "9\n",
      "153\n",
      "370\n",
      "371\n",
      "407\n",
      "1634\n"
     ]
    }
   ],
   "source": [
    "def isarm(x):\n",
    "    sum,c=0,0\n",
    "    n,m=x,x\n",
    "    while n!=0:\n",
    "        n=int(n/10)\n",
    "        c+=1\n",
    "        digits=c\n",
    "    while x!=0:    \n",
    "        y=x%10\n",
    "        x=int(x/10)\n",
    "        sum +=(y**digits)\n",
    "    if sum==m:\n",
    "        print(m)\n",
    "x=int(input(\"Enter lower limit: \"))\n",
    "y=int(input(\"Enter upper limit: \"))\n",
    "for i in range(x,y+1):\n",
    "    isarm(i)"
   ]
  },
  {
   "cell_type": "markdown",
   "id": "149c4e74",
   "metadata": {},
   "source": [
    "# Q6"
   ]
  },
  {
   "cell_type": "code",
   "execution_count": 19,
   "id": "70d56c08",
   "metadata": {},
   "outputs": [
    {
     "name": "stdout",
     "output_type": "stream",
     "text": [
      "Enter limit: 10\n",
      "55\n"
     ]
    }
   ],
   "source": [
    "x=int(input(\"Enter limit: \"))\n",
    "sum=(x*(x+1))/2\n",
    "print(int(sum))"
   ]
  },
  {
   "cell_type": "code",
   "execution_count": null,
   "id": "6579800c",
   "metadata": {},
   "outputs": [],
   "source": []
  }
 ],
 "metadata": {
  "kernelspec": {
   "display_name": "Python 3",
   "language": "python",
   "name": "python3"
  },
  "language_info": {
   "codemirror_mode": {
    "name": "ipython",
    "version": 3
   },
   "file_extension": ".py",
   "mimetype": "text/x-python",
   "name": "python",
   "nbconvert_exporter": "python",
   "pygments_lexer": "ipython3",
   "version": "3.8.3"
  }
 },
 "nbformat": 4,
 "nbformat_minor": 5
}
