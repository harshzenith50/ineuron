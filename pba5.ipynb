{
 "cells": [
  {
   "cell_type": "markdown",
   "id": "cff3b369",
   "metadata": {},
   "source": [
    "# PBA5\n",
    "Q1. Two curly brackets: {}\n",
    "\n",
    "\n",
    "Q2. {'foo': 42}\n",
    "\n",
    "\n",
    "Q3. The items stored in a dictionary are unordered, while the items in a list are ordered.\n",
    "\n",
    "\n",
    "Q4. You get a KeyError error.\n",
    "\n",
    "\n",
    "Q5. There is no difference. The in operator checks whether a value exists as a key in the dictionary.\n",
    "\n",
    "\n",
    "Q6. 'cat' in spam checks whether there is a 'cat' key in the dictionary, while 'cat' in spam.values() checks whether there is a value 'cat' for one of the keys in spam.\n",
    "\n",
    "\n",
    "Q7. spam.setdefault('color', 'black')\n",
    "\n",
    "\n",
    "Q8. pprint.pprint()"
   ]
  },
  {
   "cell_type": "code",
   "execution_count": null,
   "id": "dea0fb83",
   "metadata": {},
   "outputs": [],
   "source": []
  }
 ],
 "metadata": {
  "kernelspec": {
   "display_name": "Python 3",
   "language": "python",
   "name": "python3"
  },
  "language_info": {
   "codemirror_mode": {
    "name": "ipython",
    "version": 3
   },
   "file_extension": ".py",
   "mimetype": "text/x-python",
   "name": "python",
   "nbconvert_exporter": "python",
   "pygments_lexer": "ipython3",
   "version": "3.8.3"
  }
 },
 "nbformat": 4,
 "nbformat_minor": 5
}
