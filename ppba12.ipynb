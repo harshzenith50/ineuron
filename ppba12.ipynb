{
 "cells": [
  {
   "cell_type": "markdown",
   "id": "1967d83b",
   "metadata": {},
   "source": [
    "# Q1"
   ]
  },
  {
   "cell_type": "code",
   "execution_count": 1,
   "id": "d78ee0ac",
   "metadata": {},
   "outputs": [
    {
     "name": "stdout",
     "output_type": "stream",
     "text": [
      "Original List:  [{'I': 'S001'}, {'II': 'S002'}, {'III': 'S001'}, {'IV': 'S005'}, {'V': 'S005'}, {'VI': 'S009'}, {'VII': 'S007'}]\n",
      "Unique Values:  {'S007', 'S002', 'S001', 'S009', 'S005'}\n"
     ]
    }
   ],
   "source": [
    "L = [{\"I\":\"S001\"}, {\"II\": \"S002\"}, {\"III\": \"S001\"}, {\"IV\": \"S005\"}, {\"V\":\"S005\"}, {\"VI\":\"S009\"},{\"VII\":\"S007\"}]\n",
    "print(\"Original List: \",L)\n",
    "u_value = set(val for i in L for val in i.values())\n",
    "print(\"Unique Values: \",u_value) "
   ]
  },
  {
   "cell_type": "markdown",
   "id": "012b0164",
   "metadata": {},
   "source": [
    "# Q2"
   ]
  },
  {
   "cell_type": "code",
   "execution_count": 19,
   "id": "9dfe5eb3",
   "metadata": {},
   "outputs": [
    {
     "name": "stdout",
     "output_type": "stream",
     "text": [
      "1637\n"
     ]
    }
   ],
   "source": [
    "dic1 = {\"I\":123,\"II\": 234,\"III\":345,\"IV\": 456,\"V\":324,\"VI\":123,\"VII\":32}\n",
    "l=[]\n",
    "for i in dic1.values():\n",
    "    l.append(i)\n",
    "print(sum(l))"
   ]
  },
  {
   "cell_type": "markdown",
   "id": "1d4cae78",
   "metadata": {},
   "source": [
    "# Q3\n"
   ]
  },
  {
   "cell_type": "code",
   "execution_count": 25,
   "id": "489b900a",
   "metadata": {},
   "outputs": [
    {
     "name": "stdout",
     "output_type": "stream",
     "text": [
      "{'A': 1, 'B': 2, 'C': 3, 'D': 4, 'E': 5, 'F': 6, 'G': 7, 'H': 8}\n"
     ]
    }
   ],
   "source": [
    "dic1={\"A\":1,\"B\":2,\"C\":3,\"D\":4}\n",
    "dic2={\"E\":5,\"F\":6,\"G\":7,\"H\":8}\n",
    "dic1.update(dic2)\n",
    "print(dic1)"
   ]
  },
  {
   "cell_type": "markdown",
   "id": "2bd6fcaf",
   "metadata": {},
   "source": [
    "# Q4"
   ]
  },
  {
   "cell_type": "code",
   "execution_count": 30,
   "id": "ea0c948a",
   "metadata": {},
   "outputs": [
    {
     "name": "stdout",
     "output_type": "stream",
     "text": [
      "{'language': ['python', 'java', 'c/c++', 'javascript'], 'year': [1991, 1995, 1980, 1995]}\n",
      "{'python': 1991, 'java': 1995, 'c/c++': 1980, 'javascript': 1995}\n"
     ]
    }
   ],
   "source": [
    "languages = {'language' : ['python', 'java', 'c/c++', 'javascript'], 'year' : [1991, 1995, 1980, 1995]}\n",
    "print(str(languages))\n",
    "\n",
    "# Flattening dictionary \n",
    "lang_year = dict(zip(languages['language'], languages['year']))\n",
    "print(str(lang_year))"
   ]
  },
  {
   "cell_type": "markdown",
   "id": "d120318e",
   "metadata": {},
   "source": [
    "# Q5"
   ]
  },
  {
   "cell_type": "code",
   "execution_count": 32,
   "id": "22789160",
   "metadata": {},
   "outputs": [
    {
     "name": "stdout",
     "output_type": "stream",
     "text": [
      "The dictionary is :  OrderedDict([('Will', '1'), ('James', '2'), ('Rob', '4')])\n",
      "The resultant dictionary is :  OrderedDict([('Mark', '7'), ('Will', '1'), ('James', '2'), ('Rob', '4')])\n",
      "\n"
     ]
    }
   ],
   "source": [
    "from collections import OrderedDict\n",
    "\n",
    "my_ordered_dict = OrderedDict([('Will', '1'), ('James', '2'), ('Rob', '4')])\n",
    "print(\"The dictionary is : \",my_ordered_dict)\n",
    "my_ordered_dict.update({'Mark':'7'})\n",
    "my_ordered_dict.move_to_end('Mark', last = False)\n",
    "print(\"The resultant dictionary is : \",my_ordered_dict)"
   ]
  },
  {
   "cell_type": "markdown",
   "id": "c1785c31",
   "metadata": {},
   "source": [
    "# Q6 "
   ]
  },
  {
   "cell_type": "code",
   "execution_count": 38,
   "id": "2e63c695",
   "metadata": {},
   "outputs": [
    {
     "name": "stdout",
     "output_type": "stream",
     "text": [
      "True\n"
     ]
    }
   ],
   "source": [
    "from collections import OrderedDict \n",
    "def checkOrder(input, pattern): \n",
    "    dict = OrderedDict.fromkeys(input) \n",
    "    ptrlen = 0\n",
    "    for key,value in dict.items(): \n",
    "        if (key == pattern[ptrlen]): \n",
    "            ptrlen = ptrlen + 1\n",
    "        if (ptrlen == (len(pattern))): \n",
    "            return True\n",
    "    return False\n",
    "  \n",
    "# Driver program \n",
    "if __name__ == \"__main__\": \n",
    "    input = 'engineers rock'\n",
    "    pattern = 'egr'\n",
    "    print (checkOrder(input,pattern)) "
   ]
  },
  {
   "cell_type": "markdown",
   "id": "41f51a16",
   "metadata": {},
   "source": [
    "# Q7"
   ]
  },
  {
   "cell_type": "code",
   "execution_count": 44,
   "id": "444ce936",
   "metadata": {},
   "outputs": [
    {
     "name": "stdout",
     "output_type": "stream",
     "text": [
      "[(1, 2), (5, 12), (6, 18), (4, 24), (2, 56), (3, 323)]\n"
     ]
    }
   ],
   "source": [
    "def dictionairy():\n",
    "    key_value ={}   \n",
    "    key_value[2] = 56      \n",
    "    key_value[1] = 2\n",
    "    key_value[5] = 12\n",
    "    key_value[4] = 24\n",
    "    key_value[6] = 18     \n",
    "    key_value[3] = 323\n",
    "    print(sorted(key_value.items(), key = lambda kv:(kv[1], kv[0])))   \n",
    "def main():\n",
    "    dictionairy()           \n",
    "if __name__==\"__main__\":     \n",
    "    main()"
   ]
  },
  {
   "cell_type": "code",
   "execution_count": null,
   "id": "4ee32e96",
   "metadata": {},
   "outputs": [],
   "source": []
  }
 ],
 "metadata": {
  "kernelspec": {
   "display_name": "Python 3",
   "language": "python",
   "name": "python3"
  },
  "language_info": {
   "codemirror_mode": {
    "name": "ipython",
    "version": 3
   },
   "file_extension": ".py",
   "mimetype": "text/x-python",
   "name": "python",
   "nbconvert_exporter": "python",
   "pygments_lexer": "ipython3",
   "version": "3.8.3"
  }
 },
 "nbformat": 4,
 "nbformat_minor": 5
}
