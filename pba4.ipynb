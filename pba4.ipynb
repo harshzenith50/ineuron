{
 "cells": [
  {
   "cell_type": "markdown",
   "id": "7dafe743",
   "metadata": {},
   "source": [
    "# PBA4  \n",
    "Q1. The empty list value, which is a list value that contains no items. This is similar to how '' is the empty string value.\n",
    "\n",
    "\n",
    "Q2. spam[2] = 'hello'\n",
    "\n",
    "\n",
    "Q3. 'd' \n",
    "\n",
    "\n",
    "Q4. 'd' \n",
    "\n",
    "\n",
    "Q5. ['a', 'b']\n",
    "\n",
    "\n",
    "Q6. 1\n",
    "\n",
    "\n",
    "Q7. [3.14, 'cat', 11, 'cat', True, 99]\n",
    "\n",
    "\n",
    "Q8. [3.14, 11, 'cat', True]\n",
    "\n",
    "\n",
    "Q9. The operator for list concatenation is +, while the operator for replication is *\n",
    "\n",
    "\n",
    "Q10. While append() will add values only to the end of a list, insert() can add them anywhere in the list.\n",
    "\n",
    "\n",
    "Q11. The del statement and the remove() list method are two ways to remove values from a list.\n",
    "\n",
    "\n",
    "Q12. Both lists and strings can be passed to len(), have indexes and slices, be used in for loops, \n",
    "be concatenated or replicated, and be used with the in and not in operators.\n",
    "\n",
    "\n",
    "Q13. Lists are mutable; they can have values added, removed, or changed. Tuples are immutable; \n",
    "they cannot be changed at all. Also, tuples are written using parentheses, ( and ), while lists use the square brackets, [ and ].\n",
    "\n",
    "\n",
    "Q14. (42,) (The trailing comma is mandatory.)\n",
    "\n",
    "\n",
    "Q15. The tuple() and list() functions, respectively.\n",
    "\n",
    "\n",
    "Q16. They contain references to list values.\n",
    "\n",
    "\n",
    "Q17. The copy.copy() function will do a shallow copy of a list, while the copy.deepcopy() function will do a deep copy of a list.\n",
    " That is, only copy.deepcopy() will duplicate any lists inside the list."
   ]
  },
  {
   "cell_type": "code",
   "execution_count": null,
   "id": "958e7294",
   "metadata": {},
   "outputs": [],
   "source": []
  }
 ],
 "metadata": {
  "kernelspec": {
   "display_name": "Python 3",
   "language": "python",
   "name": "python3"
  },
  "language_info": {
   "codemirror_mode": {
    "name": "ipython",
    "version": 3
   },
   "file_extension": ".py",
   "mimetype": "text/x-python",
   "name": "python",
   "nbconvert_exporter": "python",
   "pygments_lexer": "ipython3",
   "version": "3.8.3"
  }
 },
 "nbformat": 4,
 "nbformat_minor": 5
}
