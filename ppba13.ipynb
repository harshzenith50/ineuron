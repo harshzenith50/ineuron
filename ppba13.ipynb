{
 "cells": [
  {
   "cell_type": "markdown",
   "id": "c353466c",
   "metadata": {},
   "source": [
    "# Q1"
   ]
  },
  {
   "cell_type": "code",
   "execution_count": 22,
   "id": "0246cab5",
   "metadata": {},
   "outputs": [
    {
     "name": "stdout",
     "output_type": "stream",
     "text": [
      "100,150,120\n",
      "['100', '150', '120']\n",
      "18,22,20,"
     ]
    }
   ],
   "source": [
    "c=50\n",
    "h=30\n",
    "d=input().split(\",\")\n",
    "print(d)\n",
    "for i in range(len(d)):\n",
    "    q=(2*c*int(d[i])/h)**0.5\n",
    "    print(int(q),end=\",\")"
   ]
  },
  {
   "cell_type": "markdown",
   "id": "1cb3a99f",
   "metadata": {},
   "source": [
    "# Q2\n"
   ]
  },
  {
   "cell_type": "code",
   "execution_count": 1,
   "id": "4cd29593",
   "metadata": {},
   "outputs": [
    {
     "name": "stdout",
     "output_type": "stream",
     "text": [
      "3\n",
      "4\n"
     ]
    },
    {
     "data": {
      "text/plain": [
       "array([[0., 0., 0., 0.],\n",
       "       [0., 1., 2., 3.],\n",
       "       [0., 2., 4., 6.]])"
      ]
     },
     "execution_count": 1,
     "metadata": {},
     "output_type": "execute_result"
    }
   ],
   "source": [
    "import numpy as np \n",
    "x=int(input())\n",
    "y=int(input())\n",
    "np.fromfunction(lambda i,j: i*j,(x,y))\n"
   ]
  },
  {
   "cell_type": "markdown",
   "id": "d34d15ca",
   "metadata": {},
   "source": [
    "# Q3"
   ]
  },
  {
   "cell_type": "code",
   "execution_count": 25,
   "id": "eb244aec",
   "metadata": {},
   "outputs": [
    {
     "name": "stdout",
     "output_type": "stream",
     "text": [
      "lab,cas,ads,fga,fbe,cas,fsde,ekan,aneo\n",
      "ads,aneo,cas,cas,ekan,fbe,fga,fsde,lab,"
     ]
    }
   ],
   "source": [
    "words=input().split(\",\")\n",
    "words.sort()\n",
    "for words in words:\n",
    "    print(words,end=\",\")"
   ]
  },
  {
   "cell_type": "markdown",
   "id": "e0bdd8bf",
   "metadata": {},
   "source": [
    "# Q4"
   ]
  },
  {
   "cell_type": "code",
   "execution_count": 19,
   "id": "4c5ef34b",
   "metadata": {},
   "outputs": [
    {
     "name": "stdout",
     "output_type": "stream",
     "text": [
      "lab cas ads fa fbe cas fsde ekan aneo\n",
      "['ads', 'aneo', 'cas', 'ekan', 'fa', 'fbe', 'fsde', 'lab']\n"
     ]
    }
   ],
   "source": [
    "words=input().split(\" \")\n",
    "l=[]\n",
    "for i in words:\n",
    "    if i not in l:\n",
    "        l.append(i)\n",
    "l.sort()\n",
    "print(l)"
   ]
  },
  {
   "cell_type": "markdown",
   "id": "501b144d",
   "metadata": {},
   "source": [
    "# Q5"
   ]
  },
  {
   "cell_type": "code",
   "execution_count": 30,
   "id": "630974cf",
   "metadata": {},
   "outputs": [
    {
     "name": "stdout",
     "output_type": "stream",
     "text": [
      "shree shree 420 \n",
      "LETTERS  10 \n",
      "DIGITS  3\n"
     ]
    }
   ],
   "source": [
    "sen=input()\n",
    "al=0\n",
    "nu=0\n",
    "for i in sen:\n",
    "    if str.isalpha(i):\n",
    "        al+=1\n",
    "    elif str.isdigit(i):\n",
    "        nu+=1\n",
    "print(\"LETTERS \",al,\"\\nDIGITS \",nu)"
   ]
  },
  {
   "cell_type": "markdown",
   "id": "c5e67549",
   "metadata": {},
   "source": [
    "# Q6"
   ]
  },
  {
   "cell_type": "code",
   "execution_count": 55,
   "id": "517dac00",
   "metadata": {},
   "outputs": [
    {
     "name": "stdout",
     "output_type": "stream",
     "text": [
      "Type in: Harsh124!,HArsh234#2,python@341,Python@#$,PPPython123@#$\n",
      "HArsh234#2\n"
     ]
    }
   ],
   "source": [
    "import re\n",
    "\n",
    "passwords = input(\"Type in: \").split(\",\")\n",
    "l = []\n",
    "for i in passwords:\n",
    "    \n",
    "    if len(i) < 6 or len(i) > 12:\n",
    "        continue\n",
    "\n",
    "    elif not re.search(\"([a-z])+\", i):\n",
    "        continue\n",
    "\n",
    "    elif not re.search(\"([A-Z])+\", i):\n",
    "        continue\n",
    "\n",
    "    elif not re.search(\"([0-9])+\", i):\n",
    "        continue\n",
    "\n",
    "    elif not re.search(\"([@$#])+\", i):\n",
    "        continue\n",
    "\n",
    "    else:\n",
    "        l.append(i)\n",
    "\n",
    "print((\" \").join(l))"
   ]
  },
  {
   "cell_type": "code",
   "execution_count": null,
   "id": "574819ca",
   "metadata": {},
   "outputs": [],
   "source": []
  }
 ],
 "metadata": {
  "kernelspec": {
   "display_name": "Python 3",
   "language": "python",
   "name": "python3"
  },
  "language_info": {
   "codemirror_mode": {
    "name": "ipython",
    "version": 3
   },
   "file_extension": ".py",
   "mimetype": "text/x-python",
   "name": "python",
   "nbconvert_exporter": "python",
   "pygments_lexer": "ipython3",
   "version": "3.8.3"
  }
 },
 "nbformat": 4,
 "nbformat_minor": 5
}
