{
 "cells": [
  {
   "cell_type": "markdown",
   "id": "238b5de7",
   "metadata": {},
   "source": [
    "# Q1"
   ]
  },
  {
   "cell_type": "code",
   "execution_count": 20,
   "id": "210e5854",
   "metadata": {},
   "outputs": [
    {
     "name": "stdout",
     "output_type": "stream",
     "text": [
      "0\n",
      "7\n",
      "14\n",
      "21\n",
      "28\n",
      "35\n",
      "42\n",
      "49\n",
      "56\n",
      "63\n",
      "70\n"
     ]
    }
   ],
   "source": [
    "class x():\n",
    "    def printmultiples(integer):\n",
    "        for i in range(0,integer):\n",
    "            if i%7==0:\n",
    "                yield i\n",
    "for i in x.printmultiples(71):\n",
    "    print(i)\n"
   ]
  },
  {
   "cell_type": "markdown",
   "id": "b6ae1528",
   "metadata": {},
   "source": [
    "# Q2"
   ]
  },
  {
   "cell_type": "code",
   "execution_count": 33,
   "id": "a1d1775c",
   "metadata": {},
   "outputs": [
    {
     "name": "stdout",
     "output_type": "stream",
     "text": [
      "hi i am harsh hi i am harsh hi i am harsh\n",
      "am 3\n",
      "harsh 3\n",
      "hi 3\n",
      "i 3\n"
     ]
    }
   ],
   "source": [
    "words=input().split(\" \")\n",
    "x=set(words)\n",
    "x=sorted(x)\n",
    "for i in x:\n",
    "    print(i,words.count(i))    \n"
   ]
  },
  {
   "cell_type": "markdown",
   "id": "49cc7821",
   "metadata": {},
   "source": [
    "# Q3"
   ]
  },
  {
   "cell_type": "code",
   "execution_count": 40,
   "id": "027d9924",
   "metadata": {},
   "outputs": [
    {
     "name": "stdout",
     "output_type": "stream",
     "text": [
      "Male\n",
      "Female\n"
     ]
    }
   ],
   "source": [
    "class Person():\n",
    "    def getGender():\n",
    "        return \"Unknown\"\n",
    "class Male(Person):\n",
    "    def getGender(self):\n",
    "        return \"Male\"\n",
    "class Female(Person):\n",
    "    def getGender(self):\n",
    "        return \"Female\"\n",
    "aMale = Male()\n",
    "aFemale= Female()\n",
    "print(aMale.getGender())\n",
    "print(aFemale.getGender())"
   ]
  },
  {
   "cell_type": "markdown",
   "id": "bd0120e0",
   "metadata": {},
   "source": [
    "# Q4"
   ]
  },
  {
   "cell_type": "code",
   "execution_count": 43,
   "id": "61bfbe54",
   "metadata": {},
   "outputs": [
    {
     "name": "stdout",
     "output_type": "stream",
     "text": [
      "I  Play  Hockey\n",
      "I  Play  Football\n",
      "I  Love  Hockey\n",
      "I  Love  Football\n",
      "You  Play  Hockey\n",
      "You  Play  Football\n",
      "You  Love  Hockey\n",
      "You  Love  Football\n"
     ]
    }
   ],
   "source": [
    "subjects=[\"I \", \"You \"]\n",
    "verbs=[\"Play \", \"Love \"]\n",
    "objects=[\"Hockey\",\"Football\"]\n",
    "for i in range(len(subjects)):\n",
    "    for j in range(len(verbs)):\n",
    "        for k in range(len(objects)):\n",
    "            print(subjects[i],verbs[j],objects[k])"
   ]
  },
  {
   "cell_type": "markdown",
   "id": "aeea3328",
   "metadata": {},
   "source": [
    "# Q5"
   ]
  },
  {
   "cell_type": "code",
   "execution_count": 54,
   "id": "1e537093",
   "metadata": {},
   "outputs": [
    {
     "name": "stdout",
     "output_type": "stream",
     "text": [
      "hi i am harsh hi i am harsh hi i am harsh\n",
      "b'x\\x9c\\xcb\\xc8T\\xc8TH\\xccU\\xc8H,*\\xceP\\xc8\\xc0\\xcd\\x03\\x00\\x1bg\\r\\xbb'\n",
      "b'hi i am harsh hi i am harsh hi i am harsh'\n"
     ]
    }
   ],
   "source": [
    "import zlib\n",
    "s = input().encode()\n",
    "t = zlib.compress(s)\n",
    "print (t)\n",
    "print (zlib.decompress(t))\n"
   ]
  },
  {
   "cell_type": "markdown",
   "id": "275e1280",
   "metadata": {},
   "source": [
    "# Q6"
   ]
  },
  {
   "cell_type": "code",
   "execution_count": 69,
   "id": "befa17b8",
   "metadata": {},
   "outputs": [
    {
     "name": "stdout",
     "output_type": "stream",
     "text": [
      "Length of array: 5\n",
      "012\n",
      "151\n",
      "264\n",
      "311\n",
      "47\n",
      "[7, 11, 12, 51, 64]\n",
      "Element to search: 11\n"
     ]
    },
    {
     "data": {
      "text/plain": [
       "2"
      ]
     },
     "execution_count": 69,
     "metadata": {},
     "output_type": "execute_result"
    }
   ],
   "source": [
    "def bin_search(li, element):\n",
    "    bottom = 0\n",
    "    top = len(li)-1\n",
    "    index = -1\n",
    "    while top>=bottom and index==-1:\n",
    "        mid = (top+bottom)//2\n",
    "        if li[mid]==element:\n",
    "            index = mid\n",
    "        elif li[mid]>element:\n",
    "            top = mid-1\n",
    "        else:\n",
    "            bottom = mid+1\n",
    "\n",
    "    return index+1\n",
    "len_arr=int(input(\"Length of array: \"))\n",
    "li=[int(input(i)) for i in range(len_arr)]\n",
    "li=sorted(li)\n",
    "print(li)\n",
    "element=int(input(\"Element to search: \"))\n",
    "bin_search(li,element)\n"
   ]
  },
  {
   "cell_type": "code",
   "execution_count": null,
   "id": "da472b9e",
   "metadata": {},
   "outputs": [],
   "source": []
  }
 ],
 "metadata": {
  "kernelspec": {
   "display_name": "Python 3",
   "language": "python",
   "name": "python3"
  },
  "language_info": {
   "codemirror_mode": {
    "name": "ipython",
    "version": 3
   },
   "file_extension": ".py",
   "mimetype": "text/x-python",
   "name": "python",
   "nbconvert_exporter": "python",
   "pygments_lexer": "ipython3",
   "version": "3.8.3"
  }
 },
 "nbformat": 4,
 "nbformat_minor": 5
}
