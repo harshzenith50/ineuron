{
 "cells": [
  {
   "cell_type": "markdown",
   "id": "0d4cebab",
   "metadata": {},
   "source": [
    "# PBA25\n",
    "\n",
    "Q1.The difference between the two kinds of expressions is that the List comprehension is enclosed in square brackets [] while the Generator expression is enclosed in plain parentheses ().\n",
    "\n",
    "Q2.Iterators are used mostly to iterate or convert other objects to an iterator using iter() function.                                  \n",
    "Generators are mostly used in loops to generate an iterator by returning all the values in the loop without affecting the iteration of the loop\n",
    "\n",
    "Q3.If a function contains at least one Yeild statement.\n",
    "\n",
    "Q4.The yield statement suspends function’s execution and sends a value back to the caller, but retains enough state to enable function to resume where it is left off. \n",
    "Return sends a specified value back to its caller whereas Yield can produce a sequence of values. We should use yield when we want to iterate over a sequence, but don’t want to store the entire sequence in memory.\n",
    "\n",
    "Q5.List comprehension is more concise and easier to read as compared to map.\n",
    "List comprehension allows filtering. In map, we have no such facility. For example, to print all even numbers in range of 100, we can write [n for n in range(100) if n%2 == 0]. There is no alternate for it in map\n",
    "List comprehension are used when a list of results is required as map only returns a map object and does not return any list.\n",
    "List comprehension is faster than map when we need to evaluate expressions that are too long or complicated to express\n",
    "Map is faster in case of calling an already defined function (as no lambda is required).\n"
   ]
  },
  {
   "cell_type": "code",
   "execution_count": null,
   "id": "92ce33bc",
   "metadata": {},
   "outputs": [],
   "source": []
  }
 ],
 "metadata": {
  "kernelspec": {
   "display_name": "Python 3",
   "language": "python",
   "name": "python3"
  },
  "language_info": {
   "codemirror_mode": {
    "name": "ipython",
    "version": 3
   },
   "file_extension": ".py",
   "mimetype": "text/x-python",
   "name": "python",
   "nbconvert_exporter": "python",
   "pygments_lexer": "ipython3",
   "version": "3.8.3"
  }
 },
 "nbformat": 4,
 "nbformat_minor": 5
}
