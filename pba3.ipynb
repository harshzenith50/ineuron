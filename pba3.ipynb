{
 "cells": [
  {
   "cell_type": "markdown",
   "id": "8e312023",
   "metadata": {},
   "source": [
    "# PBA 3\n",
    "\n",
    "Q1. Functions reduce the need for duplicate code. This makes programs shorter, easier to read, and easier to update.\n",
    "\n",
    "Q2. The code in a function executes when the function is called.\n",
    "\n",
    "\n",
    "Q3. The def statement defines (that is, creates) a function.\n",
    "\n",
    "\n",
    "Q4. A function consists of the def statement and the code in its def clause.\n",
    "A function call is what moves the program execution into the function, and the function call evaluates to the function's return value.\n",
    "\n",
    "\n",
    "Q5. There is one global scope, and a local scope is created whenever a function is called.\n",
    "\n",
    "\n",
    "Q6. When a function returns, the local scope is destroyed, and all the variables in it are forgotten.\n",
    "\n",
    "\n",
    "Q7. A return value is the value that a function call evaluates to. Like any value, a return value can be used as part of an expression.\n",
    "\n",
    "\n",
    "Q8. If there is no return statement for a function, its return value is None.\n",
    "\n",
    "\n",
    "Q9. A global statement will force a variable in a function to refer to the global variable.\n",
    "\n",
    "\n",
    "Q10. The data type of None is NoneType.\n",
    "\n",
    "\n",
    "Q11. That import statement imports a module named areallyourpetsnamederic. \n",
    "\n",
    "\n",
    "Q12. This function can be called with spam.bacon().\n",
    "\n",
    "\n",
    "Q13. Place the line of code that might cause an error in a try clause.\n",
    "\n",
    "\n",
    "Q14. The code that could potentially cause an error is put inside the try clause.\n",
    "The code that executes if an error happens goes in the except clause."
   ]
  },
  {
   "cell_type": "code",
   "execution_count": null,
   "id": "23224a38",
   "metadata": {},
   "outputs": [],
   "source": []
  }
 ],
 "metadata": {
  "kernelspec": {
   "display_name": "Python 3",
   "language": "python",
   "name": "python3"
  },
  "language_info": {
   "codemirror_mode": {
    "name": "ipython",
    "version": 3
   },
   "file_extension": ".py",
   "mimetype": "text/x-python",
   "name": "python",
   "nbconvert_exporter": "python",
   "pygments_lexer": "ipython3",
   "version": "3.8.3"
  }
 },
 "nbformat": 4,
 "nbformat_minor": 5
}
