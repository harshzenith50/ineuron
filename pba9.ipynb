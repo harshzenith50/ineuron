{
 "cells": [
  {
   "cell_type": "markdown",
   "id": "56739353",
   "metadata": {},
   "source": [
    "# PBA9\n",
    "\n",
    "Q1.Relative paths are relative to the current working directory.\n",
    "\n",
    "Q2.Absolute paths start with the root folder, such as / or C:\\.\n",
    "\n",
    "Q3.The os.getcwd() function returns the current working directory. The os.chdir() function changes the current working \n",
    "directory.\n",
    "\n",
    "Q4.The . folder is the current folder, and .. is the parent folder.\n",
    "\n",
    "Q5.C:\\bacon\\eggs is the dir name, while spam.txt is the base name.\n",
    "\n",
    "Q6.The string 'r' for read mode, 'w' for write mode, and 'a' for append mode\n",
    "\n",
    "Q7.An existing file opened in write mode is erased and completely overwritten.\n",
    "\n",
    "Q8.The read() method returns the file's entire contents as a single string value. The readlines() method returns a list of strings, where each string is a line from the file's contents.\n",
    "\n",
    "Q9.A shelf value resembles a dictionary value; it has keys and values, along with keys() and values() methods that work similarly to the dictionary methods of the same names."
   ]
  },
  {
   "cell_type": "code",
   "execution_count": null,
   "id": "0aa553a6",
   "metadata": {},
   "outputs": [],
   "source": []
  }
 ],
 "metadata": {
  "kernelspec": {
   "display_name": "Python 3",
   "language": "python",
   "name": "python3"
  },
  "language_info": {
   "codemirror_mode": {
    "name": "ipython",
    "version": 3
   },
   "file_extension": ".py",
   "mimetype": "text/x-python",
   "name": "python",
   "nbconvert_exporter": "python",
   "pygments_lexer": "ipython3",
   "version": "3.8.3"
  }
 },
 "nbformat": 4,
 "nbformat_minor": 5
}
