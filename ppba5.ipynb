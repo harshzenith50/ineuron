{
 "cells": [
  {
   "cell_type": "markdown",
   "id": "464b0211",
   "metadata": {},
   "source": [
    "# PPBA5"
   ]
  },
  {
   "cell_type": "markdown",
   "id": "97ee7b58",
   "metadata": {},
   "source": [
    "## Q1"
   ]
  },
  {
   "cell_type": "code",
   "execution_count": 46,
   "id": "17ce5bc6",
   "metadata": {},
   "outputs": [
    {
     "name": "stdout",
     "output_type": "stream",
     "text": [
      "16\n",
      "38\n",
      "LCM is:  304.0\n"
     ]
    }
   ],
   "source": [
    "def factors(x):\n",
    "    l=[]\n",
    "    for i in range(1,x+1):\n",
    "        if x%i==0:\n",
    "            l.append(i)\n",
    "    return l\n",
    "def greatest_common_factor(x,y):\n",
    "    l=list()\n",
    "    for i in x:\n",
    "        for j in y:\n",
    "            if i == j:\n",
    "                l.append(i)\n",
    "    return l \n",
    "x=int(input())\n",
    "y=int(input())\n",
    "x1=factors(x)\n",
    "y1=factors(y)\n",
    "l=greatest_common_factor(x1,y1)\n",
    "length=len(l)\n",
    "den=l[length-1]\n",
    "lcm= (x*y)/den\n",
    "print(\"LCM is: \",lcm)"
   ]
  },
  {
   "cell_type": "markdown",
   "id": "a1aacc7f",
   "metadata": {},
   "source": [
    "## Q2"
   ]
  },
  {
   "cell_type": "code",
   "execution_count": 47,
   "id": "20415f97",
   "metadata": {},
   "outputs": [
    {
     "name": "stdout",
     "output_type": "stream",
     "text": [
      "16\n",
      "38\n",
      "The HCF is 2\n"
     ]
    }
   ],
   "source": [
    "def compute_hcf(x, y):\n",
    "    while(y):\n",
    "        x, y = y, x % y\n",
    "    return x\n",
    "x=int(input())\n",
    "y=int(input())\n",
    "hcf = compute_hcf(x,y)\n",
    "print(\"The HCF is\", hcf)"
   ]
  },
  {
   "cell_type": "markdown",
   "id": "e416e533",
   "metadata": {},
   "source": [
    "## Q3"
   ]
  },
  {
   "cell_type": "code",
   "execution_count": 69,
   "id": "d895d2ba",
   "metadata": {},
   "outputs": [
    {
     "name": "stdout",
     "output_type": "stream",
     "text": [
      "Number?14\n",
      "Base?2\n",
      "01110"
     ]
    }
   ],
   "source": [
    "def DecimalToBinary(num):\n",
    "     if num >= 1:\n",
    "        DecimalToBinary(num // 2)\n",
    "    print(num % 2, end = '')\n",
    "def DecimalToOct(num):\n",
    "     if num >= 1:\n",
    "        DecimalToOct(num // 8)\n",
    "    print(num % 8, end = '')\n",
    "def DecimalToHexa(num):\n",
    "     if num >= 1:\n",
    "        DecimalToHexa(num // 16)\n",
    "    print(num % 16, end = '')    \n",
    "num = int(input(\"Number?\"))\n",
    "base = int(input(\"Base?\"))    \n",
    "if base==2:\n",
    "    DecimalToBinary(num)\n",
    "elif base==8:\n",
    "    DecimalToOct(num)\n",
    "else:\n",
    "    DecimalToHexa(num)"
   ]
  },
  {
   "cell_type": "markdown",
   "id": "df1e2918",
   "metadata": {},
   "source": [
    "## Q4"
   ]
  },
  {
   "cell_type": "code",
   "execution_count": 74,
   "id": "000435f5",
   "metadata": {},
   "outputs": [
    {
     "name": "stdout",
     "output_type": "stream",
     "text": [
      "Enter a single character: H\n",
      "72\n"
     ]
    }
   ],
   "source": [
    "x=input(\"Enter a single character: \")\n",
    "print(ord(x))"
   ]
  },
  {
   "cell_type": "markdown",
   "id": "0698dd11",
   "metadata": {},
   "source": [
    "## Q5"
   ]
  },
  {
   "cell_type": "code",
   "execution_count": 75,
   "id": "1f20ef46",
   "metadata": {},
   "outputs": [
    {
     "name": "stdout",
     "output_type": "stream",
     "text": [
      "Select operation.\n",
      "1.Add\n",
      "2.Subtract\n",
      "3.Multiply\n",
      "4.Divide\n",
      "Enter choice(1/2/3/4): 3\n",
      "Enter first number: 14\n",
      "Enter second number: 61\n",
      "14.0 * 61.0 = 854.0\n"
     ]
    }
   ],
   "source": [
    "def add(x, y):\n",
    "    return x + y\n",
    "def subtract(x, y):\n",
    "    return x - y\n",
    "def multiply(x, y):\n",
    "    return x * y\n",
    "def divide(x, y):\n",
    "    return x / y\n",
    "print(\"Select operation.\")\n",
    "print(\"1.Add\")\n",
    "print(\"2.Subtract\")\n",
    "print(\"3.Multiply\")\n",
    "print(\"4.Divide\")\n",
    "while True:\n",
    "    choice = input(\"Enter choice(1/2/3/4): \")\n",
    "    if choice in ('1', '2', '3', '4'):\n",
    "        num1 = float(input(\"Enter first number: \"))\n",
    "        num2 = float(input(\"Enter second number: \"))\n",
    "        if choice == '1':\n",
    "            print(num1, \"+\", num2, \"=\", add(num1, num2))\n",
    "        elif choice == '2':\n",
    "            print(num1, \"-\", num2, \"=\", subtract(num1, num2))\n",
    "        elif choice == '3':\n",
    "            print(num1, \"*\", num2, \"=\", multiply(num1, num2))\n",
    "        elif choice == '4':\n",
    "            print(num1, \"/\", num2, \"=\", divide(num1, num2))\n",
    "        break\n",
    "    else:\n",
    "        print(\"Invalid Input\")"
   ]
  },
  {
   "cell_type": "code",
   "execution_count": null,
   "id": "de1a9c64",
   "metadata": {},
   "outputs": [],
   "source": []
  }
 ],
 "metadata": {
  "kernelspec": {
   "display_name": "Python 3",
   "language": "python",
   "name": "python3"
  },
  "language_info": {
   "codemirror_mode": {
    "name": "ipython",
    "version": 3
   },
   "file_extension": ".py",
   "mimetype": "text/x-python",
   "name": "python",
   "nbconvert_exporter": "python",
   "pygments_lexer": "ipython3",
   "version": "3.8.3"
  }
 },
 "nbformat": 4,
 "nbformat_minor": 5
}
